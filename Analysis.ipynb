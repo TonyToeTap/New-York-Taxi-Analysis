{
 "cells": [
  {
   "cell_type": "markdown",
   "metadata": {},
   "source": [
    "<a id='table_of_contents'></a>\n",
    "\n",
    "0. [Import libraries](#imports)\n",
    "1. [Import data](#import_data)\n",
    "2. [Data exploration](#data_exploration)\n",
    "3. [Data cleaning](#data_cleaning)\n",
    "4. [Data preparation](#data_preparation)\n",
    "5. [Benchmark model](#benchmark_model)<br>\n",
    "6. [Feature engineering](#feature_engineering)\n",
    "7. [Model training](#model_training)<br>\n",
    "    7.1. [Decision Tree](#decision_tree)<br>\n",
    "    7.2. [Random Forest](#random_forest)<br>\n",
    "    7.3. [Comparing algorithm performances](#comparing_algorithm_performances)\n",
    "8. [Tuning](#tuning)<br>"
   ]
  },
  {
   "cell_type": "markdown",
   "metadata": {},
   "source": [
    "# 0. Import libraries <a id='imports'></a>\n",
    "[Back to top](#table_of_contents)"
   ]
  },
  {
   "cell_type": "code",
   "execution_count": 3,
   "metadata": {},
   "outputs": [],
   "source": [
    "import pandas as pd\n",
    "import numpy as np\n",
    "\n",
    "pd.set_option('display.max_rows', 500)\n",
    "pd.set_option('display.max_columns', 500)\n",
    "pd.set_option('display.width', 1000)\n",
    "\n",
    "%matplotlib inline"
   ]
  },
  {
   "cell_type": "markdown",
   "metadata": {},
   "source": [
    "# 1. Import data <a id='import_data'></a>\n",
    "[Back to top](#table_of_contents)"
   ]
  },
  {
   "cell_type": "code",
   "execution_count": 4,
   "metadata": {},
   "outputs": [],
   "source": [
    "taxi_pd = pd.read_csv('/Users/lukasjunger/PycharmProjects/MisraCourse/New-York-Taxi-Analysis/data/yellow_tripdata_2019-01.csv')"
   ]
  },
  {
   "cell_type": "code",
   "execution_count": 5,
   "metadata": {},
   "outputs": [
    {
     "data": {
      "text/plain": [
       "(7667792, 18)"
      ]
     },
     "execution_count": 5,
     "metadata": {},
     "output_type": "execute_result"
    }
   ],
   "source": [
    "taxi_pd.shape"
   ]
  },
  {
   "cell_type": "code",
   "execution_count": 6,
   "metadata": {},
   "outputs": [
    {
     "data": {
      "text/plain": [
       "VendorID                   int64\n",
       "tpep_pickup_datetime      object\n",
       "tpep_dropoff_datetime     object\n",
       "passenger_count            int64\n",
       "trip_distance            float64\n",
       "RatecodeID                 int64\n",
       "store_and_fwd_flag        object\n",
       "PULocationID               int64\n",
       "DOLocationID               int64\n",
       "payment_type               int64\n",
       "fare_amount              float64\n",
       "extra                    float64\n",
       "mta_tax                  float64\n",
       "tip_amount               float64\n",
       "tolls_amount             float64\n",
       "improvement_surcharge    float64\n",
       "total_amount             float64\n",
       "congestion_surcharge     float64\n",
       "dtype: object"
      ]
     },
     "execution_count": 6,
     "metadata": {},
     "output_type": "execute_result"
    }
   ],
   "source": [
    "taxi_pd.dtypes"
   ]
  },
  {
   "cell_type": "markdown",
   "metadata": {},
   "source": [
    "# 2. Data exploration <a id='data_exploration'></a>\n",
    "[Back to top](#table_of_contents)"
   ]
  },
  {
   "cell_type": "code",
   "execution_count": 7,
   "metadata": {},
   "outputs": [
    {
     "data": {
      "text/plain": [
       "Index(['VendorID', 'tpep_pickup_datetime', 'tpep_dropoff_datetime', 'passenger_count', 'trip_distance', 'RatecodeID', 'store_and_fwd_flag', 'PULocationID', 'DOLocationID', 'payment_type', 'fare_amount', 'extra', 'mta_tax', 'tip_amount', 'tolls_amount', 'improvement_surcharge', 'total_amount', 'congestion_surcharge'], dtype='object')"
      ]
     },
     "execution_count": 7,
     "metadata": {},
     "output_type": "execute_result"
    }
   ],
   "source": [
    "taxi_pd.columns"
   ]
  },
  {
   "cell_type": "code",
   "execution_count": 8,
   "metadata": {},
   "outputs": [
    {
     "data": {
      "text/html": [
       "<div>\n",
       "<style scoped>\n",
       "    .dataframe tbody tr th:only-of-type {\n",
       "        vertical-align: middle;\n",
       "    }\n",
       "\n",
       "    .dataframe tbody tr th {\n",
       "        vertical-align: top;\n",
       "    }\n",
       "\n",
       "    .dataframe thead th {\n",
       "        text-align: right;\n",
       "    }\n",
       "</style>\n",
       "<table border=\"1\" class=\"dataframe\">\n",
       "  <thead>\n",
       "    <tr style=\"text-align: right;\">\n",
       "      <th></th>\n",
       "      <th>tpep_pickup_datetime</th>\n",
       "      <th>tpep_dropoff_datetime</th>\n",
       "      <th>passenger_count</th>\n",
       "      <th>trip_distance</th>\n",
       "      <th>RatecodeID</th>\n",
       "      <th>PULocationID</th>\n",
       "      <th>DOLocationID</th>\n",
       "      <th>payment_type</th>\n",
       "      <th>total_amount</th>\n",
       "    </tr>\n",
       "  </thead>\n",
       "  <tbody>\n",
       "    <tr>\n",
       "      <th>0</th>\n",
       "      <td>2019-01-01 00:46:40</td>\n",
       "      <td>2019-01-01 00:53:20</td>\n",
       "      <td>1</td>\n",
       "      <td>1.50</td>\n",
       "      <td>1</td>\n",
       "      <td>151</td>\n",
       "      <td>239</td>\n",
       "      <td>1</td>\n",
       "      <td>9.95</td>\n",
       "    </tr>\n",
       "    <tr>\n",
       "      <th>1</th>\n",
       "      <td>2019-01-01 00:59:47</td>\n",
       "      <td>2019-01-01 01:18:59</td>\n",
       "      <td>1</td>\n",
       "      <td>2.60</td>\n",
       "      <td>1</td>\n",
       "      <td>239</td>\n",
       "      <td>246</td>\n",
       "      <td>1</td>\n",
       "      <td>16.30</td>\n",
       "    </tr>\n",
       "    <tr>\n",
       "      <th>2</th>\n",
       "      <td>2018-12-21 13:48:30</td>\n",
       "      <td>2018-12-21 13:52:40</td>\n",
       "      <td>3</td>\n",
       "      <td>0.00</td>\n",
       "      <td>1</td>\n",
       "      <td>236</td>\n",
       "      <td>236</td>\n",
       "      <td>1</td>\n",
       "      <td>5.80</td>\n",
       "    </tr>\n",
       "    <tr>\n",
       "      <th>3</th>\n",
       "      <td>2018-11-28 15:52:25</td>\n",
       "      <td>2018-11-28 15:55:45</td>\n",
       "      <td>5</td>\n",
       "      <td>0.00</td>\n",
       "      <td>1</td>\n",
       "      <td>193</td>\n",
       "      <td>193</td>\n",
       "      <td>2</td>\n",
       "      <td>7.55</td>\n",
       "    </tr>\n",
       "    <tr>\n",
       "      <th>4</th>\n",
       "      <td>2018-11-28 15:56:57</td>\n",
       "      <td>2018-11-28 15:58:33</td>\n",
       "      <td>5</td>\n",
       "      <td>0.00</td>\n",
       "      <td>2</td>\n",
       "      <td>193</td>\n",
       "      <td>193</td>\n",
       "      <td>2</td>\n",
       "      <td>55.55</td>\n",
       "    </tr>\n",
       "    <tr>\n",
       "      <th>...</th>\n",
       "      <td>...</td>\n",
       "      <td>...</td>\n",
       "      <td>...</td>\n",
       "      <td>...</td>\n",
       "      <td>...</td>\n",
       "      <td>...</td>\n",
       "      <td>...</td>\n",
       "      <td>...</td>\n",
       "      <td>...</td>\n",
       "    </tr>\n",
       "    <tr>\n",
       "      <th>7667787</th>\n",
       "      <td>2019-01-31 23:57:36</td>\n",
       "      <td>2019-02-01 00:18:39</td>\n",
       "      <td>1</td>\n",
       "      <td>4.79</td>\n",
       "      <td>1</td>\n",
       "      <td>263</td>\n",
       "      <td>4</td>\n",
       "      <td>1</td>\n",
       "      <td>23.16</td>\n",
       "    </tr>\n",
       "    <tr>\n",
       "      <th>7667788</th>\n",
       "      <td>2019-01-31 23:32:03</td>\n",
       "      <td>2019-01-31 23:33:11</td>\n",
       "      <td>1</td>\n",
       "      <td>0.00</td>\n",
       "      <td>1</td>\n",
       "      <td>193</td>\n",
       "      <td>193</td>\n",
       "      <td>1</td>\n",
       "      <td>0.00</td>\n",
       "    </tr>\n",
       "    <tr>\n",
       "      <th>7667789</th>\n",
       "      <td>2019-01-31 23:36:36</td>\n",
       "      <td>2019-01-31 23:36:40</td>\n",
       "      <td>1</td>\n",
       "      <td>0.00</td>\n",
       "      <td>1</td>\n",
       "      <td>264</td>\n",
       "      <td>264</td>\n",
       "      <td>1</td>\n",
       "      <td>0.00</td>\n",
       "    </tr>\n",
       "    <tr>\n",
       "      <th>7667790</th>\n",
       "      <td>2019-01-31 23:14:53</td>\n",
       "      <td>2019-01-31 23:15:20</td>\n",
       "      <td>1</td>\n",
       "      <td>0.00</td>\n",
       "      <td>1</td>\n",
       "      <td>264</td>\n",
       "      <td>7</td>\n",
       "      <td>1</td>\n",
       "      <td>0.00</td>\n",
       "    </tr>\n",
       "    <tr>\n",
       "      <th>7667791</th>\n",
       "      <td>2019-01-31 23:12:49</td>\n",
       "      <td>2019-01-31 23:14:08</td>\n",
       "      <td>1</td>\n",
       "      <td>0.00</td>\n",
       "      <td>1</td>\n",
       "      <td>193</td>\n",
       "      <td>193</td>\n",
       "      <td>1</td>\n",
       "      <td>0.00</td>\n",
       "    </tr>\n",
       "  </tbody>\n",
       "</table>\n",
       "<p>7667792 rows × 9 columns</p>\n",
       "</div>"
      ],
      "text/plain": [
       "        tpep_pickup_datetime tpep_dropoff_datetime  passenger_count  trip_distance  RatecodeID  PULocationID  DOLocationID  payment_type  total_amount\n",
       "0        2019-01-01 00:46:40   2019-01-01 00:53:20                1           1.50           1           151           239             1          9.95\n",
       "1        2019-01-01 00:59:47   2019-01-01 01:18:59                1           2.60           1           239           246             1         16.30\n",
       "2        2018-12-21 13:48:30   2018-12-21 13:52:40                3           0.00           1           236           236             1          5.80\n",
       "3        2018-11-28 15:52:25   2018-11-28 15:55:45                5           0.00           1           193           193             2          7.55\n",
       "4        2018-11-28 15:56:57   2018-11-28 15:58:33                5           0.00           2           193           193             2         55.55\n",
       "...                      ...                   ...              ...            ...         ...           ...           ...           ...           ...\n",
       "7667787  2019-01-31 23:57:36   2019-02-01 00:18:39                1           4.79           1           263             4             1         23.16\n",
       "7667788  2019-01-31 23:32:03   2019-01-31 23:33:11                1           0.00           1           193           193             1          0.00\n",
       "7667789  2019-01-31 23:36:36   2019-01-31 23:36:40                1           0.00           1           264           264             1          0.00\n",
       "7667790  2019-01-31 23:14:53   2019-01-31 23:15:20                1           0.00           1           264             7             1          0.00\n",
       "7667791  2019-01-31 23:12:49   2019-01-31 23:14:08                1           0.00           1           193           193             1          0.00\n",
       "\n",
       "[7667792 rows x 9 columns]"
      ]
     },
     "execution_count": 8,
     "metadata": {},
     "output_type": "execute_result"
    }
   ],
   "source": [
    "# Only take the relevant columns\n",
    "taxi_pd = taxi_pd[['tpep_pickup_datetime', 'tpep_dropoff_datetime', 'passenger_count', 'trip_distance', \n",
    "                   'RatecodeID', 'PULocationID', 'DOLocationID', 'payment_type', 'total_amount']]\n",
    "taxi_pd"
   ]
  },
  {
   "cell_type": "code",
   "execution_count": 9,
   "metadata": {},
   "outputs": [
    {
     "data": {
      "text/plain": [
       "array([[<AxesSubplot:title={'center':'passenger_count'}>,\n",
       "        <AxesSubplot:title={'center':'trip_distance'}>,\n",
       "        <AxesSubplot:title={'center':'RatecodeID'}>],\n",
       "       [<AxesSubplot:title={'center':'PULocationID'}>,\n",
       "        <AxesSubplot:title={'center':'DOLocationID'}>,\n",
       "        <AxesSubplot:title={'center':'payment_type'}>],\n",
       "       [<AxesSubplot:title={'center':'total_amount'}>, <AxesSubplot:>,\n",
       "        <AxesSubplot:>]], dtype=object)"
      ]
     },
     "execution_count": 9,
     "metadata": {},
     "output_type": "execute_result"
    },
    {
     "data": {
      "image/png": "[encoded data removed]",
      "text/plain": [
       "<Figure size 1440x720 with 9 Axes>"
      ]
     },
     "metadata": {
      "needs_background": "light"
     },
     "output_type": "display_data"
    }
   ],
   "source": [
    "taxi_pd.hist(figsize=(20, 10), bins=60)"
   ]
  },
  {
   "cell_type": "code",
   "execution_count": 10,
   "metadata": {},
   "outputs": [
    {
     "data": {
      "text/plain": [
       "7.30      170464\n",
       "7.80      167910\n",
       "6.80      167882\n",
       "8.30      161711\n",
       "8.80      159059\n",
       "           ...  \n",
       "78.87          1\n",
       "157.82         1\n",
       "156.07         1\n",
       "287.85         1\n",
       "200.76         1\n",
       "Name: total_amount, Length: 12191, dtype: int64"
      ]
     },
     "execution_count": 10,
     "metadata": {},
     "output_type": "execute_result"
    }
   ],
   "source": [
    "taxi_pd['RatecodeID'].value_counts()\n",
    "taxi_pd['total_amount'].value_counts()"
   ]
  },
  {
   "cell_type": "code",
   "execution_count": 11,
   "metadata": {},
   "outputs": [
    {
     "data": {
      "text/plain": [
       "236    334323\n",
       "237    296185\n",
       "161    293782\n",
       "170    242037\n",
       "162    232451\n",
       "230    225336\n",
       "142    214164\n",
       "48     208624\n",
       "234    204386\n",
       "239    204350\n",
       "141    202184\n",
       "186    189486\n",
       "163    175754\n",
       "238    175310\n",
       "79     168608\n",
       "68     167144\n",
       "107    162697\n",
       "263    158297\n",
       "164    154200\n",
       "140    152042\n",
       "264    149094\n",
       "229    146563\n",
       "246    140739\n",
       "231    120771\n",
       "249    120045\n",
       "137    114948\n",
       "100    114419\n",
       "90     113317\n",
       "233    112334\n",
       "143    112216\n",
       "262    108735\n",
       "113    101569\n",
       "75      97352\n",
       "43      91934\n",
       "50      86664\n",
       "114     73628\n",
       "158     72793\n",
       "148     71211\n",
       "151     67877\n",
       "138     66384\n",
       "13      62630\n",
       "144     60969\n",
       "74      59571\n",
       "211     56934\n",
       "87      56466\n",
       "166     54916\n",
       "132     53444\n",
       "41      49288\n",
       "125     36691\n",
       "4       34855\n",
       "232     34532\n",
       "42      32641\n",
       "224     31932\n",
       "261     31838\n",
       "7       28130\n",
       "88      26743\n",
       "24      26467\n",
       "244     25789\n",
       "145     24221\n",
       "181     21720\n",
       "33      20581\n",
       "116     19514\n",
       "209     19150\n",
       "45      19061\n",
       "226     18261\n",
       "265     16817\n",
       "255     15850\n",
       "256     15246\n",
       "112     13898\n",
       "25      12905\n",
       "223     12903\n",
       "129     12565\n",
       "243     12488\n",
       "65      12442\n",
       "152     12094\n",
       "97      11445\n",
       "49      11162\n",
       "61      10952\n",
       "1       10908\n",
       "66      10264\n",
       "80       9783\n",
       "179      8948\n",
       "95       8756\n",
       "17       8568\n",
       "146      8567\n",
       "260      8085\n",
       "37       8030\n",
       "40       7496\n",
       "225      6707\n",
       "189      6499\n",
       "193      6295\n",
       "89       6217\n",
       "168      6071\n",
       "82       6005\n",
       "52       5768\n",
       "14       5471\n",
       "188      5370\n",
       "127      5316\n",
       "36       4792\n",
       "228      4106\n",
       "10       3702\n",
       "198      3664\n",
       "12       3612\n",
       "69       3605\n",
       "76       3321\n",
       "257      3307\n",
       "216      3305\n",
       "62       3158\n",
       "202      3100\n",
       "220      3062\n",
       "106      3032\n",
       "70       3020\n",
       "92       2965\n",
       "247      2821\n",
       "83       2771\n",
       "196      2734\n",
       "217      2669\n",
       "130      2500\n",
       "159      2429\n",
       "200      2363\n",
       "197      2352\n",
       "195      2303\n",
       "26       2287\n",
       "133      2287\n",
       "173      2258\n",
       "157      2166\n",
       "160      2143\n",
       "39       2126\n",
       "56       2094\n",
       "165      2084\n",
       "134      1989\n",
       "28       1931\n",
       "135      1930\n",
       "219      1866\n",
       "35       1781\n",
       "54       1776\n",
       "91       1771\n",
       "213      1765\n",
       "177      1752\n",
       "72       1734\n",
       "235      1709\n",
       "119      1618\n",
       "205      1609\n",
       "227      1595\n",
       "71       1595\n",
       "258      1560\n",
       "22       1546\n",
       "51       1514\n",
       "123      1464\n",
       "210      1458\n",
       "169      1441\n",
       "18       1365\n",
       "121      1340\n",
       "167      1327\n",
       "218      1313\n",
       "254      1307\n",
       "241      1306\n",
       "191      1303\n",
       "182      1295\n",
       "85       1293\n",
       "131      1281\n",
       "215      1276\n",
       "155      1266\n",
       "136      1220\n",
       "171      1216\n",
       "67       1209\n",
       "212      1175\n",
       "149      1158\n",
       "55       1128\n",
       "174      1119\n",
       "242      1118\n",
       "93       1114\n",
       "208      1086\n",
       "16       1077\n",
       "21       1073\n",
       "102      1069\n",
       "252      1056\n",
       "29       1004\n",
       "47        980\n",
       "78        975\n",
       "203       964\n",
       "126       953\n",
       "248       943\n",
       "185       942\n",
       "124       937\n",
       "190       930\n",
       "147       914\n",
       "63        912\n",
       "250       894\n",
       "259       882\n",
       "98        861\n",
       "32        861\n",
       "77        857\n",
       "38        836\n",
       "139       826\n",
       "86        798\n",
       "178       774\n",
       "34        758\n",
       "53        752\n",
       "20        744\n",
       "15        716\n",
       "81        679\n",
       "175       674\n",
       "60        659\n",
       "180       659\n",
       "94        652\n",
       "64        641\n",
       "3         636\n",
       "222       635\n",
       "117       633\n",
       "11        615\n",
       "150       589\n",
       "192       585\n",
       "9         578\n",
       "19        565\n",
       "108       560\n",
       "101       550\n",
       "194       546\n",
       "122       470\n",
       "128       438\n",
       "183       426\n",
       "73        422\n",
       "153       396\n",
       "201       360\n",
       "31        327\n",
       "207       301\n",
       "120       282\n",
       "240       265\n",
       "57        245\n",
       "118       216\n",
       "23        209\n",
       "206       188\n",
       "6         183\n",
       "221       179\n",
       "58        165\n",
       "96        156\n",
       "115       145\n",
       "214       135\n",
       "156       129\n",
       "251       120\n",
       "172       113\n",
       "46        112\n",
       "8         110\n",
       "154       105\n",
       "84         95\n",
       "184        83\n",
       "27         78\n",
       "111        78\n",
       "109        76\n",
       "245        65\n",
       "44         65\n",
       "59         60\n",
       "187        59\n",
       "176        53\n",
       "5          50\n",
       "253        45\n",
       "204        45\n",
       "30         24\n",
       "2          14\n",
       "99         12\n",
       "105         4\n",
       "Name: DOLocationID, dtype: int64"
      ]
     },
     "execution_count": 11,
     "metadata": {},
     "output_type": "execute_result"
    }
   ],
   "source": [
    "taxi_pd['DOLocationID'].value_counts()"
   ]
  },
  {
   "cell_type": "code",
   "execution_count": 12,
   "metadata": {},
   "outputs": [
    {
     "data": {
      "text/plain": [
       "0          True\n",
       "1          True\n",
       "2          True\n",
       "3          True\n",
       "4          True\n",
       "           ... \n",
       "7667787    True\n",
       "7667788    True\n",
       "7667789    True\n",
       "7667790    True\n",
       "7667791    True\n",
       "Name: DOLocationID, Length: 7667792, dtype: bool"
      ]
     },
     "execution_count": 12,
     "metadata": {},
     "output_type": "execute_result"
    }
   ],
   "source": [
    "taxi_pd['DOLocationID'].between(1, 265)"
   ]
  },
  {
   "cell_type": "code",
   "execution_count": 13,
   "metadata": {},
   "outputs": [
    {
     "data": {
      "text/plain": [
       "7.30      170464\n",
       "7.80      167910\n",
       "6.80      167882\n",
       "8.30      161711\n",
       "8.80      159059\n",
       "           ...  \n",
       "78.87          1\n",
       "157.82         1\n",
       "156.07         1\n",
       "287.85         1\n",
       "200.76         1\n",
       "Name: total_amount, Length: 12191, dtype: int64"
      ]
     },
     "execution_count": 13,
     "metadata": {},
     "output_type": "execute_result"
    }
   ],
   "source": [
    "taxi_pd['total_amount'].value_counts()"
   ]
  },
  {
   "cell_type": "markdown",
   "metadata": {},
   "source": [
    "A closer look on the data:\n",
    "\n",
    "- passenger_count:\n",
    "Seems legit. What is the meaning of some drives with zero=passenger_count? Maybe this means the taxi just delivered something?\n",
    "\n",
    "- trip_distance:\n",
    "There are many drives which only take a few kilometers. Seems reasonable.\n",
    "\n",
    "- RatecodeID:\n",
    "There is something wrong with the data! 252 times the RateCodeID was 99 which makes no sense.\n",
    "\n",
    "- PULocationID & DOLocationID:\n",
    "Seems to be fine. All values stand for a corresponding taxi zone.\n",
    "\n",
    "- payment_type:\n",
    "Seems to be fine. Most people pay cash or credit card.\n",
    "\n",
    "- total_amount:\n",
    "Seems to be fine. Most drives cost about 7-8 $. The most expensive drive was for 200."
   ]
  },
  {
   "cell_type": "code",
   "execution_count": 14,
   "metadata": {},
   "outputs": [
    {
     "data": {
      "text/plain": [
       "<AxesSubplot:xlabel='index', ylabel='total_amount'>"
      ]
     },
     "execution_count": 14,
     "metadata": {},
     "output_type": "execute_result"
    },
    {
     "data": {
      "image/png": "[encoded data removed]",
      "text/plain": [
       "<Figure size 720x360 with 1 Axes>"
      ]
     },
     "metadata": {
      "needs_background": "light"
     },
     "output_type": "display_data"
    }
   ],
   "source": [
    "taxi_pd.reset_index().plot(kind='scatter', y='total_amount', x='index', figsize=(10,5), grid=True)"
   ]
  },
  {
   "cell_type": "code",
   "execution_count": 15,
   "metadata": {},
   "outputs": [
    {
     "data": {
      "text/plain": [
       "<AxesSubplot:xlabel='index', ylabel='total_amount'>"
      ]
     },
     "execution_count": 15,
     "metadata": {},
     "output_type": "execute_result"
    },
    {
     "data": {
      "image/png": "[encoded data removed]",
      "text/plain": [
       "<Figure size 720x360 with 1 Axes>"
      ]
     },
     "metadata": {
      "needs_background": "light"
     },
     "output_type": "display_data"
    }
   ],
   "source": [
    "taxi_pd[taxi_pd['total_amount']<1000].reset_index().plot(kind='scatter', y='total_amount', x='index', figsize=(10,5), grid=True)"
   ]
  },
  {
   "cell_type": "markdown",
   "metadata": {},
   "source": [
    "There are two major things I have  to deal with:\n",
    "- negative values\n",
    "- absurd high values"
   ]
  },
  {
   "cell_type": "markdown",
   "metadata": {},
   "source": [
    "# 3. Data cleaning <a id='data_cleaning'></a>\n",
    "[Back to top](#table_of_contents)"
   ]
  },
  {
   "cell_type": "code",
   "execution_count": 16,
   "metadata": {},
   "outputs": [
    {
     "name": "stdout",
     "output_type": "stream",
     "text": [
      "(7131, 9)\n"
     ]
    },
    {
     "data": {
      "text/plain": [
       "<AxesSubplot:xlabel='index', ylabel='total_amount'>"
      ]
     },
     "execution_count": 16,
     "metadata": {},
     "output_type": "execute_result"
    },
    {
     "data": {
      "image/png": "[encoded data removed]",
      "text/plain": [
       "<Figure size 720x360 with 1 Axes>"
      ]
     },
     "metadata": {
      "needs_background": "light"
     },
     "output_type": "display_data"
    }
   ],
   "source": [
    "# How many negative values are there?\n",
    "print(taxi_pd[taxi_pd['total_amount']<0].shape)\n",
    "\n",
    "# Show all the negative values\n",
    "taxi_pd[taxi_pd['total_amount']<0].reset_index().plot(kind='scatter', y='total_amount', x='index', figsize=(10,5))"
   ]
  },
  {
   "cell_type": "code",
   "execution_count": 17,
   "metadata": {},
   "outputs": [
    {
     "data": {
      "text/html": [
       "<div>\n",
       "<style scoped>\n",
       "    .dataframe tbody tr th:only-of-type {\n",
       "        vertical-align: middle;\n",
       "    }\n",
       "\n",
       "    .dataframe tbody tr th {\n",
       "        vertical-align: top;\n",
       "    }\n",
       "\n",
       "    .dataframe thead th {\n",
       "        text-align: right;\n",
       "    }\n",
       "</style>\n",
       "<table border=\"1\" class=\"dataframe\">\n",
       "  <thead>\n",
       "    <tr style=\"text-align: right;\">\n",
       "      <th></th>\n",
       "      <th>tpep_pickup_datetime</th>\n",
       "      <th>tpep_dropoff_datetime</th>\n",
       "      <th>passenger_count</th>\n",
       "      <th>trip_distance</th>\n",
       "      <th>RatecodeID</th>\n",
       "      <th>PULocationID</th>\n",
       "      <th>DOLocationID</th>\n",
       "      <th>payment_type</th>\n",
       "      <th>total_amount</th>\n",
       "    </tr>\n",
       "  </thead>\n",
       "  <tbody>\n",
       "    <tr>\n",
       "      <th>663</th>\n",
       "      <td>2019-01-01 00:32:56</td>\n",
       "      <td>2019-01-01 00:33:35</td>\n",
       "      <td>2</td>\n",
       "      <td>0.10</td>\n",
       "      <td>1</td>\n",
       "      <td>148</td>\n",
       "      <td>148</td>\n",
       "      <td>3</td>\n",
       "      <td>-3.8</td>\n",
       "    </tr>\n",
       "    <tr>\n",
       "      <th>2402</th>\n",
       "      <td>2019-01-01 00:14:18</td>\n",
       "      <td>2019-01-01 00:40:55</td>\n",
       "      <td>1</td>\n",
       "      <td>4.13</td>\n",
       "      <td>1</td>\n",
       "      <td>170</td>\n",
       "      <td>238</td>\n",
       "      <td>4</td>\n",
       "      <td>-20.3</td>\n",
       "    </tr>\n",
       "    <tr>\n",
       "      <th>2541</th>\n",
       "      <td>2019-01-01 00:31:27</td>\n",
       "      <td>2019-01-01 00:42:39</td>\n",
       "      <td>1</td>\n",
       "      <td>1.35</td>\n",
       "      <td>1</td>\n",
       "      <td>162</td>\n",
       "      <td>234</td>\n",
       "      <td>4</td>\n",
       "      <td>-9.8</td>\n",
       "    </tr>\n",
       "    <tr>\n",
       "      <th>2544</th>\n",
       "      <td>2019-01-01 00:45:57</td>\n",
       "      <td>2019-01-01 00:46:07</td>\n",
       "      <td>1</td>\n",
       "      <td>0.00</td>\n",
       "      <td>1</td>\n",
       "      <td>234</td>\n",
       "      <td>234</td>\n",
       "      <td>4</td>\n",
       "      <td>-3.8</td>\n",
       "    </tr>\n",
       "    <tr>\n",
       "      <th>2547</th>\n",
       "      <td>2019-01-01 00:48:35</td>\n",
       "      <td>2019-01-01 00:49:59</td>\n",
       "      <td>1</td>\n",
       "      <td>0.16</td>\n",
       "      <td>1</td>\n",
       "      <td>234</td>\n",
       "      <td>234</td>\n",
       "      <td>4</td>\n",
       "      <td>-4.3</td>\n",
       "    </tr>\n",
       "  </tbody>\n",
       "</table>\n",
       "</div>"
      ],
      "text/plain": [
       "     tpep_pickup_datetime tpep_dropoff_datetime  passenger_count  trip_distance  RatecodeID  PULocationID  DOLocationID  payment_type  total_amount\n",
       "663   2019-01-01 00:32:56   2019-01-01 00:33:35                2           0.10           1           148           148             3          -3.8\n",
       "2402  2019-01-01 00:14:18   2019-01-01 00:40:55                1           4.13           1           170           238             4         -20.3\n",
       "2541  2019-01-01 00:31:27   2019-01-01 00:42:39                1           1.35           1           162           234             4          -9.8\n",
       "2544  2019-01-01 00:45:57   2019-01-01 00:46:07                1           0.00           1           234           234             4          -3.8\n",
       "2547  2019-01-01 00:48:35   2019-01-01 00:49:59                1           0.16           1           234           234             4          -4.3"
      ]
     },
     "execution_count": 17,
     "metadata": {},
     "output_type": "execute_result"
    }
   ],
   "source": [
    "# Show some rows with negative values at the total_amount column\n",
    "taxi_pd[taxi_pd['total_amount']<0].head()"
   ]
  },
  {
   "cell_type": "code",
   "execution_count": 18,
   "metadata": {},
   "outputs": [
    {
     "name": "stdout",
     "output_type": "stream",
     "text": [
      "(1414, 9)\n"
     ]
    },
    {
     "data": {
      "text/html": [
       "<div>\n",
       "<style scoped>\n",
       "    .dataframe tbody tr th:only-of-type {\n",
       "        vertical-align: middle;\n",
       "    }\n",
       "\n",
       "    .dataframe tbody tr th {\n",
       "        vertical-align: top;\n",
       "    }\n",
       "\n",
       "    .dataframe thead th {\n",
       "        text-align: right;\n",
       "    }\n",
       "</style>\n",
       "<table border=\"1\" class=\"dataframe\">\n",
       "  <thead>\n",
       "    <tr style=\"text-align: right;\">\n",
       "      <th></th>\n",
       "      <th>tpep_pickup_datetime</th>\n",
       "      <th>tpep_dropoff_datetime</th>\n",
       "      <th>passenger_count</th>\n",
       "      <th>trip_distance</th>\n",
       "      <th>RatecodeID</th>\n",
       "      <th>PULocationID</th>\n",
       "      <th>DOLocationID</th>\n",
       "      <th>payment_type</th>\n",
       "      <th>total_amount</th>\n",
       "    </tr>\n",
       "  </thead>\n",
       "  <tbody>\n",
       "    <tr>\n",
       "      <th>3552</th>\n",
       "      <td>2019-01-01 00:18:46</td>\n",
       "      <td>2019-01-01 00:18:46</td>\n",
       "      <td>1</td>\n",
       "      <td>0.0</td>\n",
       "      <td>5</td>\n",
       "      <td>186</td>\n",
       "      <td>264</td>\n",
       "      <td>2</td>\n",
       "      <td>0.0</td>\n",
       "    </tr>\n",
       "    <tr>\n",
       "      <th>9138</th>\n",
       "      <td>2019-01-01 00:41:47</td>\n",
       "      <td>2019-01-01 00:41:47</td>\n",
       "      <td>1</td>\n",
       "      <td>0.0</td>\n",
       "      <td>5</td>\n",
       "      <td>246</td>\n",
       "      <td>264</td>\n",
       "      <td>2</td>\n",
       "      <td>0.0</td>\n",
       "    </tr>\n",
       "    <tr>\n",
       "      <th>13256</th>\n",
       "      <td>2019-01-01 00:19:38</td>\n",
       "      <td>2019-01-01 00:20:35</td>\n",
       "      <td>1</td>\n",
       "      <td>0.0</td>\n",
       "      <td>1</td>\n",
       "      <td>193</td>\n",
       "      <td>193</td>\n",
       "      <td>1</td>\n",
       "      <td>0.0</td>\n",
       "    </tr>\n",
       "    <tr>\n",
       "      <th>13257</th>\n",
       "      <td>2019-01-01 00:43:34</td>\n",
       "      <td>2019-01-01 00:43:34</td>\n",
       "      <td>1</td>\n",
       "      <td>0.0</td>\n",
       "      <td>1</td>\n",
       "      <td>7</td>\n",
       "      <td>7</td>\n",
       "      <td>2</td>\n",
       "      <td>0.0</td>\n",
       "    </tr>\n",
       "    <tr>\n",
       "      <th>13258</th>\n",
       "      <td>2019-01-01 00:02:52</td>\n",
       "      <td>2019-01-01 00:02:52</td>\n",
       "      <td>1</td>\n",
       "      <td>0.0</td>\n",
       "      <td>1</td>\n",
       "      <td>264</td>\n",
       "      <td>7</td>\n",
       "      <td>2</td>\n",
       "      <td>0.0</td>\n",
       "    </tr>\n",
       "  </tbody>\n",
       "</table>\n",
       "</div>"
      ],
      "text/plain": [
       "      tpep_pickup_datetime tpep_dropoff_datetime  passenger_count  trip_distance  RatecodeID  PULocationID  DOLocationID  payment_type  total_amount\n",
       "3552   2019-01-01 00:18:46   2019-01-01 00:18:46                1            0.0           5           186           264             2           0.0\n",
       "9138   2019-01-01 00:41:47   2019-01-01 00:41:47                1            0.0           5           246           264             2           0.0\n",
       "13256  2019-01-01 00:19:38   2019-01-01 00:20:35                1            0.0           1           193           193             1           0.0\n",
       "13257  2019-01-01 00:43:34   2019-01-01 00:43:34                1            0.0           1             7             7             2           0.0\n",
       "13258  2019-01-01 00:02:52   2019-01-01 00:02:52                1            0.0           1           264             7             2           0.0"
      ]
     },
     "execution_count": 18,
     "metadata": {},
     "output_type": "execute_result"
    }
   ],
   "source": [
    "# How many zeroes are there?\n",
    "print(taxi_pd[taxi_pd['total_amount']==0].shape)\n",
    "\n",
    "# Show some rows with zero as values at the total_amount column\n",
    "taxi_pd[taxi_pd['total_amount']==0].head()"
   ]
  },
  {
   "cell_type": "code",
   "execution_count": 19,
   "metadata": {},
   "outputs": [
    {
     "data": {
      "text/plain": [
       "<AxesSubplot:>"
      ]
     },
     "execution_count": 19,
     "metadata": {},
     "output_type": "execute_result"
    },
    {
     "data": {
      "image/png": "[encoded data removed]",
      "text/plain": [
       "<Figure size 720x360 with 1 Axes>"
      ]
     },
     "metadata": {
      "needs_background": "light"
     },
     "output_type": "display_data"
    }
   ],
   "source": [
    "# Show how often the 'trip_distance' was zero when there was no total_amount\n",
    "taxi_pd[taxi_pd['total_amount']==0]['trip_distance'].hist(bins=60, figsize=(10,5))"
   ]
  },
  {
   "cell_type": "code",
   "execution_count": 20,
   "metadata": {},
   "outputs": [
    {
     "data": {
      "text/plain": [
       "0.00      1270\n",
       "0.01         4\n",
       "1.00         4\n",
       "0.02         4\n",
       "0.03         3\n",
       "0.10         3\n",
       "0.50         3\n",
       "1.40         3\n",
       "0.70         3\n",
       "1.30         2\n",
       "0.04         2\n",
       "2.00         2\n",
       "17.80        2\n",
       "2.40         2\n",
       "1.90         2\n",
       "0.80         2\n",
       "1.60         2\n",
       "4.30         2\n",
       "0.09         2\n",
       "0.90         2\n",
       "2.60         2\n",
       "1.10         2\n",
       "0.30         2\n",
       "0.40         2\n",
       "1.50         2\n",
       "1.06         1\n",
       "1.56         1\n",
       "0.67         1\n",
       "0.53         1\n",
       "27.91        1\n",
       "4.89         1\n",
       "1.14         1\n",
       "2.12         1\n",
       "18.09        1\n",
       "0.42         1\n",
       "6.54         1\n",
       "10.84        1\n",
       "2.57         1\n",
       "3.22         1\n",
       "3.88         1\n",
       "1.62         1\n",
       "0.24         1\n",
       "1.03         1\n",
       "13.70        1\n",
       "7.85         1\n",
       "0.87         1\n",
       "7.27         1\n",
       "3.84         1\n",
       "2.70         1\n",
       "7.48         1\n",
       "3.09         1\n",
       "14.20        1\n",
       "1.04         1\n",
       "0.12         1\n",
       "2.83         1\n",
       "0.27         1\n",
       "3.50         1\n",
       "14.10        1\n",
       "3.66         1\n",
       "3.55         1\n",
       "0.31         1\n",
       "4.51         1\n",
       "1.01         1\n",
       "17.78        1\n",
       "1.27         1\n",
       "0.05         1\n",
       "0.84         1\n",
       "5.27         1\n",
       "2.94         1\n",
       "3.29         1\n",
       "12.36        1\n",
       "5.50         1\n",
       "0.18         1\n",
       "0.06         1\n",
       "2.86         1\n",
       "2.80         1\n",
       "0.85         1\n",
       "113.71       1\n",
       "5.70         1\n",
       "7.40         1\n",
       "2.66         1\n",
       "0.20         1\n",
       "4.10         1\n",
       "0.59         1\n",
       "8.88         1\n",
       "4.81         1\n",
       "16.57        1\n",
       "18.43        1\n",
       "16.52        1\n",
       "0.11         1\n",
       "2.10         1\n",
       "4.15         1\n",
       "6.13         1\n",
       "3.24         1\n",
       "3.27         1\n",
       "1.80         1\n",
       "9.84         1\n",
       "1.21         1\n",
       "0.08         1\n",
       "0.77         1\n",
       "3.92         1\n",
       "17.03        1\n",
       "12.98        1\n",
       "2.91         1\n",
       "0.75         1\n",
       "17.60        1\n",
       "1.20         1\n",
       "1.33         1\n",
       "1.75         1\n",
       "3.20         1\n",
       "Name: trip_distance, dtype: int64"
      ]
     },
     "execution_count": 20,
     "metadata": {},
     "output_type": "execute_result"
    }
   ],
   "source": [
    "# Double check if the statment from the cell above is actually true\n",
    "taxi_pd[taxi_pd['total_amount']==0]['trip_distance'].value_counts()\n",
    "# It's is correct !!"
   ]
  },
  {
   "cell_type": "markdown",
   "metadata": {},
   "source": [
    "### We can safely get rid of the negative values. What about the very high values?"
   ]
  },
  {
   "cell_type": "code",
   "execution_count": 21,
   "metadata": {},
   "outputs": [
    {
     "name": "stdout",
     "output_type": "stream",
     "text": [
      "(1166, 9)\n"
     ]
    },
    {
     "data": {
      "text/plain": [
       "<AxesSubplot:xlabel='index', ylabel='total_amount'>"
      ]
     },
     "execution_count": 21,
     "metadata": {},
     "output_type": "execute_result"
    },
    {
     "data": {
      "image/png": "[encoded data removed]",
      "text/plain": [
       "<Figure size 720x360 with 1 Axes>"
      ]
     },
     "metadata": {
      "needs_background": "light"
     },
     "output_type": "display_data"
    }
   ],
   "source": [
    "# How many values are there bigger than 200?\n",
    "print(taxi_pd[taxi_pd['total_amount']>200].shape)\n",
    "\n",
    "# Show all the values bigger than 200 for total_amount\n",
    "taxi_pd[taxi_pd['total_amount']>200].reset_index().plot(kind='scatter', y='total_amount', x='index', figsize=(10,5))"
   ]
  },
  {
   "cell_type": "code",
   "execution_count": 22,
   "metadata": {},
   "outputs": [
    {
     "data": {
      "text/html": [
       "<div>\n",
       "<style scoped>\n",
       "    .dataframe tbody tr th:only-of-type {\n",
       "        vertical-align: middle;\n",
       "    }\n",
       "\n",
       "    .dataframe tbody tr th {\n",
       "        vertical-align: top;\n",
       "    }\n",
       "\n",
       "    .dataframe thead th {\n",
       "        text-align: right;\n",
       "    }\n",
       "</style>\n",
       "<table border=\"1\" class=\"dataframe\">\n",
       "  <thead>\n",
       "    <tr style=\"text-align: right;\">\n",
       "      <th></th>\n",
       "      <th>tpep_pickup_datetime</th>\n",
       "      <th>tpep_dropoff_datetime</th>\n",
       "      <th>passenger_count</th>\n",
       "      <th>trip_distance</th>\n",
       "      <th>RatecodeID</th>\n",
       "      <th>PULocationID</th>\n",
       "      <th>DOLocationID</th>\n",
       "      <th>payment_type</th>\n",
       "      <th>total_amount</th>\n",
       "    </tr>\n",
       "  </thead>\n",
       "  <tbody>\n",
       "    <tr>\n",
       "      <th>11081</th>\n",
       "      <td>2019-01-01 00:41:25</td>\n",
       "      <td>2019-01-01 03:47:24</td>\n",
       "      <td>1</td>\n",
       "      <td>128.73</td>\n",
       "      <td>5</td>\n",
       "      <td>50</td>\n",
       "      <td>265</td>\n",
       "      <td>1</td>\n",
       "      <td>453.44</td>\n",
       "    </tr>\n",
       "    <tr>\n",
       "      <th>12931</th>\n",
       "      <td>2019-01-01 00:12:56</td>\n",
       "      <td>2019-01-01 00:13:21</td>\n",
       "      <td>1</td>\n",
       "      <td>0.00</td>\n",
       "      <td>5</td>\n",
       "      <td>234</td>\n",
       "      <td>234</td>\n",
       "      <td>1</td>\n",
       "      <td>251.00</td>\n",
       "    </tr>\n",
       "    <tr>\n",
       "      <th>13272</th>\n",
       "      <td>2018-11-28 17:05:35</td>\n",
       "      <td>2018-11-29 10:05:34</td>\n",
       "      <td>5</td>\n",
       "      <td>0.00</td>\n",
       "      <td>1</td>\n",
       "      <td>193</td>\n",
       "      <td>193</td>\n",
       "      <td>2</td>\n",
       "      <td>500.55</td>\n",
       "    </tr>\n",
       "    <tr>\n",
       "      <th>37440</th>\n",
       "      <td>2019-01-01 02:18:44</td>\n",
       "      <td>2019-01-01 02:19:42</td>\n",
       "      <td>2</td>\n",
       "      <td>0.00</td>\n",
       "      <td>5</td>\n",
       "      <td>265</td>\n",
       "      <td>265</td>\n",
       "      <td>1</td>\n",
       "      <td>222.95</td>\n",
       "    </tr>\n",
       "    <tr>\n",
       "      <th>38891</th>\n",
       "      <td>2019-01-01 02:36:54</td>\n",
       "      <td>2019-01-01 02:38:41</td>\n",
       "      <td>1</td>\n",
       "      <td>0.00</td>\n",
       "      <td>5</td>\n",
       "      <td>221</td>\n",
       "      <td>221</td>\n",
       "      <td>1</td>\n",
       "      <td>355.85</td>\n",
       "    </tr>\n",
       "  </tbody>\n",
       "</table>\n",
       "</div>"
      ],
      "text/plain": [
       "      tpep_pickup_datetime tpep_dropoff_datetime  passenger_count  trip_distance  RatecodeID  PULocationID  DOLocationID  payment_type  total_amount\n",
       "11081  2019-01-01 00:41:25   2019-01-01 03:47:24                1         128.73           5            50           265             1        453.44\n",
       "12931  2019-01-01 00:12:56   2019-01-01 00:13:21                1           0.00           5           234           234             1        251.00\n",
       "13272  2018-11-28 17:05:35   2018-11-29 10:05:34                5           0.00           1           193           193             2        500.55\n",
       "37440  2019-01-01 02:18:44   2019-01-01 02:19:42                2           0.00           5           265           265             1        222.95\n",
       "38891  2019-01-01 02:36:54   2019-01-01 02:38:41                1           0.00           5           221           221             1        355.85"
      ]
     },
     "execution_count": 22,
     "metadata": {},
     "output_type": "execute_result"
    }
   ],
   "source": [
    "# Show some rows with values > 200 at the total_amount column\n",
    "taxi_pd[taxi_pd['total_amount']>200].head()"
   ]
  },
  {
   "cell_type": "code",
   "execution_count": 23,
   "metadata": {},
   "outputs": [],
   "source": [
    "## Here the actual Data Cleaning Process happens:\n",
    "taxi_data_filtered = taxi_pd[(taxi_pd['total_amount']>=0)&(taxi_pd['total_amount']<200)]"
   ]
  },
  {
   "cell_type": "code",
   "execution_count": 24,
   "metadata": {},
   "outputs": [
    {
     "name": "stdout",
     "output_type": "stream",
     "text": [
      "(7667792, 9)\n"
     ]
    },
    {
     "data": {
      "text/plain": [
       "(7659490, 9)"
      ]
     },
     "execution_count": 24,
     "metadata": {},
     "output_type": "execute_result"
    }
   ],
   "source": [
    "print(taxi_pd.shape)\n",
    "taxi_data_filtered.shape"
   ]
  },
  {
   "cell_type": "raw",
   "metadata": {},
   "source": [
    "## My version for the Data cleaning assignment\n",
    "# Get names of indexes for the column total_amount where it is negative/zero/>200\n",
    "#total_amount_index = taxi_pd[(taxi_pd['total_amount']<0)&(taxi_pd['total_amount']==0)&(taxi_pd['total_amount']>200)].index\n",
    "# Delete these row indexes from DataFrame\n",
    "#taxi_pd.drop(total_amount_index, inplace=True)"
   ]
  },
  {
   "cell_type": "markdown",
   "metadata": {},
   "source": [
    "# 4. Data preparation <a id='data_preparation'></a>\n",
    "[Back to top](#table_of_contents)"
   ]
  },
  {
   "cell_type": "markdown",
   "metadata": {},
   "source": [
    "## What are the steps of data preparation you are considering? Write them down as precisely as you can imagine. What is the form your data needs to be in before you can use it as training data for a model? Draw a table if you need to. (Hint: think of what you are trying to predict)\n"
   ]
  },
  {
   "cell_type": "markdown",
   "metadata": {},
   "source": [
    "- Identify normal data & outliers\n",
    "- Identifying columns that have the same value or no variance and removing them.\n",
    "- Identifying duplicate rows of data and removing them.\n",
    "- Marking empty values as missing.\n",
    "- Imputing missing values using statistics or a learned model."
   ]
  },
  {
   "cell_type": "code",
   "execution_count": 25,
   "metadata": {},
   "outputs": [],
   "source": [
    "taxi_data_prepared = taxi_data_filtered.copy()"
   ]
  },
  {
   "cell_type": "markdown",
   "metadata": {},
   "source": [
    "Making sure if everything is in the right type."
   ]
  },
  {
   "cell_type": "code",
   "execution_count": 26,
   "metadata": {},
   "outputs": [
    {
     "data": {
      "text/plain": [
       "tpep_pickup_datetime      object\n",
       "tpep_dropoff_datetime     object\n",
       "passenger_count            int64\n",
       "trip_distance            float64\n",
       "RatecodeID                 int64\n",
       "PULocationID               int64\n",
       "DOLocationID               int64\n",
       "payment_type               int64\n",
       "total_amount             float64\n",
       "dtype: object"
      ]
     },
     "execution_count": 26,
     "metadata": {},
     "output_type": "execute_result"
    }
   ],
   "source": [
    "taxi_data_prepared.dtypes"
   ]
  },
  {
   "cell_type": "code",
   "execution_count": 27,
   "metadata": {},
   "outputs": [],
   "source": [
    "# Transform to datetime\n",
    "taxi_data_prepared.loc[:, 'tpep_pickup_datetime'] = pd.to_datetime(taxi_data_prepared.loc[:, 'tpep_pickup_datetime'])\n",
    "taxi_data_prepared.loc[:, 'tpep_dropoff_datetime'] = pd.to_datetime(taxi_data_prepared.loc[:, 'tpep_dropoff_datetime'])"
   ]
  },
  {
   "cell_type": "code",
   "execution_count": 28,
   "metadata": {},
   "outputs": [],
   "source": [
    "# Convert to str because these columns/features are not relevant for the model\n",
    "taxi_data_prepared.loc[:, 'RatecodeID'] = taxi_data_prepared['RatecodeID'].astype(str)\n",
    "taxi_data_prepared.loc[:, 'PULocationID'] = taxi_data_prepared['PULocationID'].astype(str)\n",
    "taxi_data_prepared.loc[:, 'DOLocationID'] = taxi_data_prepared['DOLocationID'].astype(str)\n",
    "taxi_data_prepared.loc[:, 'payment_type'] = taxi_data_prepared['payment_type'].astype(str)"
   ]
  },
  {
   "cell_type": "code",
   "execution_count": 29,
   "metadata": {},
   "outputs": [
    {
     "data": {
      "text/plain": [
       "tpep_pickup_datetime     datetime64[ns]\n",
       "tpep_dropoff_datetime    datetime64[ns]\n",
       "passenger_count                   int64\n",
       "trip_distance                   float64\n",
       "RatecodeID                       object\n",
       "PULocationID                     object\n",
       "DOLocationID                     object\n",
       "payment_type                     object\n",
       "total_amount                    float64\n",
       "dtype: object"
      ]
     },
     "execution_count": 29,
     "metadata": {},
     "output_type": "execute_result"
    }
   ],
   "source": [
    "taxi_data_prepared.dtypes"
   ]
  },
  {
   "cell_type": "markdown",
   "metadata": {},
   "source": [
    "Transforming variables into the formats we need them"
   ]
  },
  {
   "cell_type": "code",
   "execution_count": 30,
   "metadata": {},
   "outputs": [
    {
     "data": {
      "text/html": [
       "<div>\n",
       "<style scoped>\n",
       "    .dataframe tbody tr th:only-of-type {\n",
       "        vertical-align: middle;\n",
       "    }\n",
       "\n",
       "    .dataframe tbody tr th {\n",
       "        vertical-align: top;\n",
       "    }\n",
       "\n",
       "    .dataframe thead th {\n",
       "        text-align: right;\n",
       "    }\n",
       "</style>\n",
       "<table border=\"1\" class=\"dataframe\">\n",
       "  <thead>\n",
       "    <tr style=\"text-align: right;\">\n",
       "      <th></th>\n",
       "      <th>tpep_pickup_datetime</th>\n",
       "      <th>tpep_dropoff_datetime</th>\n",
       "      <th>passenger_count</th>\n",
       "      <th>trip_distance</th>\n",
       "      <th>RatecodeID</th>\n",
       "      <th>PULocationID</th>\n",
       "      <th>DOLocationID</th>\n",
       "      <th>payment_type</th>\n",
       "      <th>total_amount</th>\n",
       "    </tr>\n",
       "  </thead>\n",
       "  <tbody>\n",
       "    <tr>\n",
       "      <th>0</th>\n",
       "      <td>2019-01-01 00:46:40</td>\n",
       "      <td>2019-01-01 00:53:20</td>\n",
       "      <td>1</td>\n",
       "      <td>1.5</td>\n",
       "      <td>1</td>\n",
       "      <td>151</td>\n",
       "      <td>239</td>\n",
       "      <td>1</td>\n",
       "      <td>9.95</td>\n",
       "    </tr>\n",
       "    <tr>\n",
       "      <th>1</th>\n",
       "      <td>2019-01-01 00:59:47</td>\n",
       "      <td>2019-01-01 01:18:59</td>\n",
       "      <td>1</td>\n",
       "      <td>2.6</td>\n",
       "      <td>1</td>\n",
       "      <td>239</td>\n",
       "      <td>246</td>\n",
       "      <td>1</td>\n",
       "      <td>16.30</td>\n",
       "    </tr>\n",
       "    <tr>\n",
       "      <th>2</th>\n",
       "      <td>2018-12-21 13:48:30</td>\n",
       "      <td>2018-12-21 13:52:40</td>\n",
       "      <td>3</td>\n",
       "      <td>0.0</td>\n",
       "      <td>1</td>\n",
       "      <td>236</td>\n",
       "      <td>236</td>\n",
       "      <td>1</td>\n",
       "      <td>5.80</td>\n",
       "    </tr>\n",
       "    <tr>\n",
       "      <th>3</th>\n",
       "      <td>2018-11-28 15:52:25</td>\n",
       "      <td>2018-11-28 15:55:45</td>\n",
       "      <td>5</td>\n",
       "      <td>0.0</td>\n",
       "      <td>1</td>\n",
       "      <td>193</td>\n",
       "      <td>193</td>\n",
       "      <td>2</td>\n",
       "      <td>7.55</td>\n",
       "    </tr>\n",
       "    <tr>\n",
       "      <th>4</th>\n",
       "      <td>2018-11-28 15:56:57</td>\n",
       "      <td>2018-11-28 15:58:33</td>\n",
       "      <td>5</td>\n",
       "      <td>0.0</td>\n",
       "      <td>2</td>\n",
       "      <td>193</td>\n",
       "      <td>193</td>\n",
       "      <td>2</td>\n",
       "      <td>55.55</td>\n",
       "    </tr>\n",
       "  </tbody>\n",
       "</table>\n",
       "</div>"
      ],
      "text/plain": [
       "  tpep_pickup_datetime tpep_dropoff_datetime  passenger_count  trip_distance RatecodeID PULocationID DOLocationID payment_type  total_amount\n",
       "0  2019-01-01 00:46:40   2019-01-01 00:53:20                1            1.5          1          151          239            1          9.95\n",
       "1  2019-01-01 00:59:47   2019-01-01 01:18:59                1            2.6          1          239          246            1         16.30\n",
       "2  2018-12-21 13:48:30   2018-12-21 13:52:40                3            0.0          1          236          236            1          5.80\n",
       "3  2018-11-28 15:52:25   2018-11-28 15:55:45                5            0.0          1          193          193            2          7.55\n",
       "4  2018-11-28 15:56:57   2018-11-28 15:58:33                5            0.0          2          193          193            2         55.55"
      ]
     },
     "execution_count": 30,
     "metadata": {},
     "output_type": "execute_result"
    }
   ],
   "source": [
    "taxi_data_prepared.head()"
   ]
  },
  {
   "cell_type": "code",
   "execution_count": 31,
   "metadata": {},
   "outputs": [],
   "source": [
    "# We want seperate columns for the date/year/month/day/hour of the datetime, because it is better for the model later on.\n",
    "taxi_data_prepared['transaction_date'] = pd.to_datetime(taxi_data_prepared['tpep_pickup_datetime'].dt.date)\n",
    "taxi_data_prepared['transaction_year'] = taxi_data_prepared['tpep_pickup_datetime'].dt.year\n",
    "taxi_data_prepared['transaction_month'] = taxi_data_prepared['tpep_pickup_datetime'].dt.month\n",
    "taxi_data_prepared['transaction_day'] = taxi_data_prepared['tpep_pickup_datetime'].dt.day\n",
    "taxi_data_prepared['transaction_hour'] = taxi_data_prepared['tpep_pickup_datetime'].dt.hour"
   ]
  },
  {
   "cell_type": "code",
   "execution_count": 32,
   "metadata": {},
   "outputs": [
    {
     "data": {
      "text/html": [
       "<div>\n",
       "<style scoped>\n",
       "    .dataframe tbody tr th:only-of-type {\n",
       "        vertical-align: middle;\n",
       "    }\n",
       "\n",
       "    .dataframe tbody tr th {\n",
       "        vertical-align: top;\n",
       "    }\n",
       "\n",
       "    .dataframe thead th {\n",
       "        text-align: right;\n",
       "    }\n",
       "</style>\n",
       "<table border=\"1\" class=\"dataframe\">\n",
       "  <thead>\n",
       "    <tr style=\"text-align: right;\">\n",
       "      <th></th>\n",
       "      <th>tpep_pickup_datetime</th>\n",
       "      <th>tpep_dropoff_datetime</th>\n",
       "      <th>passenger_count</th>\n",
       "      <th>trip_distance</th>\n",
       "      <th>RatecodeID</th>\n",
       "      <th>PULocationID</th>\n",
       "      <th>DOLocationID</th>\n",
       "      <th>payment_type</th>\n",
       "      <th>total_amount</th>\n",
       "      <th>transaction_date</th>\n",
       "      <th>transaction_year</th>\n",
       "      <th>transaction_month</th>\n",
       "      <th>transaction_day</th>\n",
       "      <th>transaction_hour</th>\n",
       "    </tr>\n",
       "  </thead>\n",
       "  <tbody>\n",
       "    <tr>\n",
       "      <th>0</th>\n",
       "      <td>2019-01-01 00:46:40</td>\n",
       "      <td>2019-01-01 00:53:20</td>\n",
       "      <td>1</td>\n",
       "      <td>1.5</td>\n",
       "      <td>1</td>\n",
       "      <td>151</td>\n",
       "      <td>239</td>\n",
       "      <td>1</td>\n",
       "      <td>9.95</td>\n",
       "      <td>2019-01-01</td>\n",
       "      <td>2019</td>\n",
       "      <td>1</td>\n",
       "      <td>1</td>\n",
       "      <td>0</td>\n",
       "    </tr>\n",
       "    <tr>\n",
       "      <th>1</th>\n",
       "      <td>2019-01-01 00:59:47</td>\n",
       "      <td>2019-01-01 01:18:59</td>\n",
       "      <td>1</td>\n",
       "      <td>2.6</td>\n",
       "      <td>1</td>\n",
       "      <td>239</td>\n",
       "      <td>246</td>\n",
       "      <td>1</td>\n",
       "      <td>16.30</td>\n",
       "      <td>2019-01-01</td>\n",
       "      <td>2019</td>\n",
       "      <td>1</td>\n",
       "      <td>1</td>\n",
       "      <td>0</td>\n",
       "    </tr>\n",
       "    <tr>\n",
       "      <th>2</th>\n",
       "      <td>2018-12-21 13:48:30</td>\n",
       "      <td>2018-12-21 13:52:40</td>\n",
       "      <td>3</td>\n",
       "      <td>0.0</td>\n",
       "      <td>1</td>\n",
       "      <td>236</td>\n",
       "      <td>236</td>\n",
       "      <td>1</td>\n",
       "      <td>5.80</td>\n",
       "      <td>2018-12-21</td>\n",
       "      <td>2018</td>\n",
       "      <td>12</td>\n",
       "      <td>21</td>\n",
       "      <td>13</td>\n",
       "    </tr>\n",
       "    <tr>\n",
       "      <th>3</th>\n",
       "      <td>2018-11-28 15:52:25</td>\n",
       "      <td>2018-11-28 15:55:45</td>\n",
       "      <td>5</td>\n",
       "      <td>0.0</td>\n",
       "      <td>1</td>\n",
       "      <td>193</td>\n",
       "      <td>193</td>\n",
       "      <td>2</td>\n",
       "      <td>7.55</td>\n",
       "      <td>2018-11-28</td>\n",
       "      <td>2018</td>\n",
       "      <td>11</td>\n",
       "      <td>28</td>\n",
       "      <td>15</td>\n",
       "    </tr>\n",
       "    <tr>\n",
       "      <th>4</th>\n",
       "      <td>2018-11-28 15:56:57</td>\n",
       "      <td>2018-11-28 15:58:33</td>\n",
       "      <td>5</td>\n",
       "      <td>0.0</td>\n",
       "      <td>2</td>\n",
       "      <td>193</td>\n",
       "      <td>193</td>\n",
       "      <td>2</td>\n",
       "      <td>55.55</td>\n",
       "      <td>2018-11-28</td>\n",
       "      <td>2018</td>\n",
       "      <td>11</td>\n",
       "      <td>28</td>\n",
       "      <td>15</td>\n",
       "    </tr>\n",
       "  </tbody>\n",
       "</table>\n",
       "</div>"
      ],
      "text/plain": [
       "  tpep_pickup_datetime tpep_dropoff_datetime  passenger_count  trip_distance RatecodeID PULocationID DOLocationID payment_type  total_amount transaction_date  transaction_year  transaction_month  transaction_day  transaction_hour\n",
       "0  2019-01-01 00:46:40   2019-01-01 00:53:20                1            1.5          1          151          239            1          9.95       2019-01-01              2019                  1                1                 0\n",
       "1  2019-01-01 00:59:47   2019-01-01 01:18:59                1            2.6          1          239          246            1         16.30       2019-01-01              2019                  1                1                 0\n",
       "2  2018-12-21 13:48:30   2018-12-21 13:52:40                3            0.0          1          236          236            1          5.80       2018-12-21              2018                 12               21                13\n",
       "3  2018-11-28 15:52:25   2018-11-28 15:55:45                5            0.0          1          193          193            2          7.55       2018-11-28              2018                 11               28                15\n",
       "4  2018-11-28 15:56:57   2018-11-28 15:58:33                5            0.0          2          193          193            2         55.55       2018-11-28              2018                 11               28                15"
      ]
     },
     "execution_count": 32,
     "metadata": {},
     "output_type": "execute_result"
    }
   ],
   "source": [
    "taxi_data_prepared.head()"
   ]
  },
  {
   "cell_type": "code",
   "execution_count": 33,
   "metadata": {},
   "outputs": [
    {
     "data": {
      "text/plain": [
       "array([[<AxesSubplot:title={'center':'tpep_pickup_datetime'}>,\n",
       "        <AxesSubplot:title={'center':'tpep_dropoff_datetime'}>,\n",
       "        <AxesSubplot:title={'center':'passenger_count'}>],\n",
       "       [<AxesSubplot:title={'center':'trip_distance'}>,\n",
       "        <AxesSubplot:title={'center':'total_amount'}>,\n",
       "        <AxesSubplot:title={'center':'transaction_date'}>],\n",
       "       [<AxesSubplot:title={'center':'transaction_year'}>,\n",
       "        <AxesSubplot:title={'center':'transaction_month'}>,\n",
       "        <AxesSubplot:title={'center':'transaction_day'}>],\n",
       "       [<AxesSubplot:title={'center':'transaction_hour'}>,\n",
       "        <AxesSubplot:>, <AxesSubplot:>]], dtype=object)"
      ]
     },
     "execution_count": 33,
     "metadata": {},
     "output_type": "execute_result"
    },
    {
     "data": {
      "image/png": "[encoded data removed]",
      "text/plain": [
       "<Figure size 1440x720 with 12 Axes>"
      ]
     },
     "metadata": {
      "needs_background": "light"
     },
     "output_type": "display_data"
    }
   ],
   "source": [
    "taxi_data_prepared.hist(figsize=(20,10), bins=60)"
   ]
  },
  {
   "cell_type": "code",
   "execution_count": 34,
   "metadata": {},
   "outputs": [],
   "source": [
    "taxi_data_prepared = taxi_data_prepared[taxi_data_prepared['transaction_year']==2019]\n",
    "taxi_data_prepared = taxi_data_prepared[taxi_data_prepared['transaction_month']==1]"
   ]
  },
  {
   "cell_type": "markdown",
   "metadata": {},
   "source": [
    "Noting down categorical and numerical columns"
   ]
  },
  {
   "cell_type": "code",
   "execution_count": 35,
   "metadata": {},
   "outputs": [],
   "source": [
    "categorical_columns = ['PULocationID', 'transaction_date', 'transaction_month', 'transaction_day', 'transaction_hour']\n",
    "numerical_columns = ['trip_distance', 'total_amount']\n",
    "all_needed_columns = categorical_columns + numerical_columns"
   ]
  },
  {
   "cell_type": "code",
   "execution_count": 36,
   "metadata": {},
   "outputs": [
    {
     "name": "stdout",
     "output_type": "stream",
     "text": [
      "(7658954, 7)\n"
     ]
    },
    {
     "data": {
      "text/html": [
       "<div>\n",
       "<style scoped>\n",
       "    .dataframe tbody tr th:only-of-type {\n",
       "        vertical-align: middle;\n",
       "    }\n",
       "\n",
       "    .dataframe tbody tr th {\n",
       "        vertical-align: top;\n",
       "    }\n",
       "\n",
       "    .dataframe thead th {\n",
       "        text-align: right;\n",
       "    }\n",
       "</style>\n",
       "<table border=\"1\" class=\"dataframe\">\n",
       "  <thead>\n",
       "    <tr style=\"text-align: right;\">\n",
       "      <th></th>\n",
       "      <th>PULocationID</th>\n",
       "      <th>transaction_date</th>\n",
       "      <th>transaction_month</th>\n",
       "      <th>transaction_day</th>\n",
       "      <th>transaction_hour</th>\n",
       "      <th>trip_distance</th>\n",
       "      <th>total_amount</th>\n",
       "    </tr>\n",
       "  </thead>\n",
       "  <tbody>\n",
       "    <tr>\n",
       "      <th>0</th>\n",
       "      <td>151</td>\n",
       "      <td>2019-01-01</td>\n",
       "      <td>1</td>\n",
       "      <td>1</td>\n",
       "      <td>0</td>\n",
       "      <td>1.5</td>\n",
       "      <td>9.95</td>\n",
       "    </tr>\n",
       "    <tr>\n",
       "      <th>1</th>\n",
       "      <td>239</td>\n",
       "      <td>2019-01-01</td>\n",
       "      <td>1</td>\n",
       "      <td>1</td>\n",
       "      <td>0</td>\n",
       "      <td>2.6</td>\n",
       "      <td>16.30</td>\n",
       "    </tr>\n",
       "    <tr>\n",
       "      <th>7</th>\n",
       "      <td>163</td>\n",
       "      <td>2019-01-01</td>\n",
       "      <td>1</td>\n",
       "      <td>1</td>\n",
       "      <td>0</td>\n",
       "      <td>1.3</td>\n",
       "      <td>9.05</td>\n",
       "    </tr>\n",
       "    <tr>\n",
       "      <th>8</th>\n",
       "      <td>229</td>\n",
       "      <td>2019-01-01</td>\n",
       "      <td>1</td>\n",
       "      <td>1</td>\n",
       "      <td>0</td>\n",
       "      <td>3.7</td>\n",
       "      <td>18.50</td>\n",
       "    </tr>\n",
       "    <tr>\n",
       "      <th>9</th>\n",
       "      <td>141</td>\n",
       "      <td>2019-01-01</td>\n",
       "      <td>1</td>\n",
       "      <td>1</td>\n",
       "      <td>0</td>\n",
       "      <td>2.1</td>\n",
       "      <td>13.00</td>\n",
       "    </tr>\n",
       "  </tbody>\n",
       "</table>\n",
       "</div>"
      ],
      "text/plain": [
       "  PULocationID transaction_date  transaction_month  transaction_day  transaction_hour  trip_distance  total_amount\n",
       "0          151       2019-01-01                  1                1                 0            1.5          9.95\n",
       "1          239       2019-01-01                  1                1                 0            2.6         16.30\n",
       "7          163       2019-01-01                  1                1                 0            1.3          9.05\n",
       "8          229       2019-01-01                  1                1                 0            3.7         18.50\n",
       "9          141       2019-01-01                  1                1                 0            2.1         13.00"
      ]
     },
     "execution_count": 36,
     "metadata": {},
     "output_type": "execute_result"
    }
   ],
   "source": [
    "main_taxi_df = taxi_data_prepared[all_needed_columns]\n",
    "print(main_taxi_df.shape)\n",
    "main_taxi_df.head()"
   ]
  },
  {
   "cell_type": "markdown",
   "metadata": {},
   "source": [
    "Aggregate data points"
   ]
  },
  {
   "cell_type": "code",
   "execution_count": 37,
   "metadata": {},
   "outputs": [
    {
     "name": "stdout",
     "output_type": "stream",
     "text": [
      "(102556, 8)\n"
     ]
    },
    {
     "data": {
      "text/html": [
       "<div>\n",
       "<style scoped>\n",
       "    .dataframe tbody tr th:only-of-type {\n",
       "        vertical-align: middle;\n",
       "    }\n",
       "\n",
       "    .dataframe tbody tr th {\n",
       "        vertical-align: top;\n",
       "    }\n",
       "\n",
       "    .dataframe thead th {\n",
       "        text-align: right;\n",
       "    }\n",
       "</style>\n",
       "<table border=\"1\" class=\"dataframe\">\n",
       "  <thead>\n",
       "    <tr style=\"text-align: right;\">\n",
       "      <th></th>\n",
       "      <th>PULocationID</th>\n",
       "      <th>transaction_date</th>\n",
       "      <th>transaction_month</th>\n",
       "      <th>transaction_day</th>\n",
       "      <th>transaction_hour</th>\n",
       "      <th>trip_distance</th>\n",
       "      <th>total_amount</th>\n",
       "      <th>count_of_transactions</th>\n",
       "    </tr>\n",
       "  </thead>\n",
       "  <tbody>\n",
       "    <tr>\n",
       "      <th>0</th>\n",
       "      <td>1</td>\n",
       "      <td>2019-01-01</td>\n",
       "      <td>1</td>\n",
       "      <td>1</td>\n",
       "      <td>2</td>\n",
       "      <td>0.0</td>\n",
       "      <td>21.800</td>\n",
       "      <td>1</td>\n",
       "    </tr>\n",
       "    <tr>\n",
       "      <th>1</th>\n",
       "      <td>1</td>\n",
       "      <td>2019-01-01</td>\n",
       "      <td>1</td>\n",
       "      <td>1</td>\n",
       "      <td>5</td>\n",
       "      <td>0.0</td>\n",
       "      <td>87.300</td>\n",
       "      <td>1</td>\n",
       "    </tr>\n",
       "    <tr>\n",
       "      <th>2</th>\n",
       "      <td>1</td>\n",
       "      <td>2019-01-01</td>\n",
       "      <td>1</td>\n",
       "      <td>1</td>\n",
       "      <td>6</td>\n",
       "      <td>0.0</td>\n",
       "      <td>80.300</td>\n",
       "      <td>1</td>\n",
       "    </tr>\n",
       "    <tr>\n",
       "      <th>3</th>\n",
       "      <td>1</td>\n",
       "      <td>2019-01-01</td>\n",
       "      <td>1</td>\n",
       "      <td>1</td>\n",
       "      <td>8</td>\n",
       "      <td>0.0</td>\n",
       "      <td>128.580</td>\n",
       "      <td>2</td>\n",
       "    </tr>\n",
       "    <tr>\n",
       "      <th>4</th>\n",
       "      <td>1</td>\n",
       "      <td>2019-01-01</td>\n",
       "      <td>1</td>\n",
       "      <td>1</td>\n",
       "      <td>10</td>\n",
       "      <td>16.9</td>\n",
       "      <td>43.245</td>\n",
       "      <td>4</td>\n",
       "    </tr>\n",
       "  </tbody>\n",
       "</table>\n",
       "</div>"
      ],
      "text/plain": [
       "  PULocationID transaction_date  transaction_month  transaction_day  transaction_hour  trip_distance  total_amount  count_of_transactions\n",
       "0            1       2019-01-01                  1                1                 2            0.0        21.800                      1\n",
       "1            1       2019-01-01                  1                1                 5            0.0        87.300                      1\n",
       "2            1       2019-01-01                  1                1                 6            0.0        80.300                      1\n",
       "3            1       2019-01-01                  1                1                 8            0.0       128.580                      2\n",
       "4            1       2019-01-01                  1                1                10           16.9        43.245                      4"
      ]
     },
     "execution_count": 37,
     "metadata": {},
     "output_type": "execute_result"
    }
   ],
   "source": [
    "# Bring everything together which has the same PULocationID and date and calculate the mean of trip_distance&total_amount\n",
    "taxi_grouped_by_region = main_taxi_df.groupby(categorical_columns).mean().reset_index()\n",
    "taxi_grouped_by_region['count_of_transactions'] = main_taxi_df.groupby(categorical_columns).count().reset_index()['total_amount']\n",
    "print(taxi_grouped_by_region.shape)\n",
    "taxi_grouped_by_region.head()"
   ]
  },
  {
   "cell_type": "code",
   "execution_count": 38,
   "metadata": {},
   "outputs": [
    {
     "data": {
      "text/plain": [
       "<AxesSubplot:>"
      ]
     },
     "execution_count": 38,
     "metadata": {},
     "output_type": "execute_result"
    },
    {
     "data": {
      "image/png": "[encoded data removed]",
      "text/plain": [
       "<Figure size 720x360 with 1 Axes>"
      ]
     },
     "metadata": {
      "needs_background": "light"
     },
     "output_type": "display_data"
    }
   ],
   "source": [
    "taxi_grouped_by_region['trip_distance'].hist(bins=100, figsize=(10, 5))"
   ]
  },
  {
   "cell_type": "code",
   "execution_count": 39,
   "metadata": {},
   "outputs": [
    {
     "data": {
      "text/plain": [
       "<AxesSubplot:>"
      ]
     },
     "execution_count": 39,
     "metadata": {},
     "output_type": "execute_result"
    },
    {
     "data": {
      "image/png": "[encoded data removed]",
      "text/plain": [
       "<Figure size 720x360 with 1 Axes>"
      ]
     },
     "metadata": {
      "needs_background": "light"
     },
     "output_type": "display_data"
    }
   ],
   "source": [
    "taxi_grouped_by_region['total_amount'].hist(bins=100, figsize=(10, 5))"
   ]
  },
  {
   "cell_type": "markdown",
   "metadata": {},
   "source": [
    "# 5. Benchmark model <a id='benchmark_model'></a>\n",
    "[Back to top](#table_of_contents)"
   ]
  },
  {
   "cell_type": "code",
   "execution_count": 40,
   "metadata": {},
   "outputs": [],
   "source": [
    "data_for_benchmark_model = taxi_grouped_by_region.copy()"
   ]
  },
  {
   "cell_type": "code",
   "execution_count": 41,
   "metadata": {},
   "outputs": [],
   "source": [
    "categorical_features_benchmark = ['PULocationID', 'transaction_month', 'transaction_day', 'transaction_hour']\n",
    "input_features_benchmark = categorical_features_benchmark + ['trip_distance']\n",
    "target_feature_benchmark = 'total_amount'"
   ]
  },
  {
   "cell_type": "markdown",
   "metadata": {},
   "source": [
    "# 5.1. Train-test split"
   ]
  },
  {
   "cell_type": "code",
   "execution_count": 42,
   "metadata": {},
   "outputs": [],
   "source": [
    "# Train and test split\n",
    "from sklearn.model_selection import train_test_split\n",
    "\n",
    "X_bench = data_for_benchmark_model[input_features_benchmark]\n",
    "y_bench = data_for_benchmark_model[target_feature_benchmark]\n",
    "\n",
    "# one-hot encode\n",
    "X_bench = pd.get_dummies(X_bench)\n",
    "\n",
    "X_train_b, X_test_b, y_train_b, y_test_b = train_test_split(X_bench, y_bench, test_size=0.33, random_state=42)"
   ]
  },
  {
   "cell_type": "markdown",
   "metadata": {},
   "source": [
    "# 5.2. Fit a model to the data"
   ]
  },
  {
   "cell_type": "code",
   "execution_count": 43,
   "metadata": {},
   "outputs": [
    {
     "data": {
      "text/plain": [
       "DecisionTreeRegressor(max_depth=10)"
      ]
     },
     "execution_count": 43,
     "metadata": {},
     "output_type": "execute_result"
    }
   ],
   "source": [
    "from sklearn.tree import DecisionTreeRegressor\n",
    "\n",
    "tree = DecisionTreeRegressor(max_depth=10)\n",
    "tree.fit(X_train_b, y_train_b)"
   ]
  },
  {
   "cell_type": "markdown",
   "metadata": {},
   "source": [
    "# 5.3. Model evaluation"
   ]
  },
  {
   "cell_type": "code",
   "execution_count": 44,
   "metadata": {},
   "outputs": [
    {
     "name": "stdout",
     "output_type": "stream",
     "text": [
      "mean_absolute_error 3.4297660609061795\n",
      "mean_squared_error 64.02140813104486\n",
      "root_mean_squared_error 8.001337896317395\n",
      "r2 0.7715358183693006\n"
     ]
    }
   ],
   "source": [
    "model_at_hand = tree\n",
    "\n",
    "y_pred_b = model_at_hand.predict(X_test_b)\n",
    "\n",
    "from sklearn.metrics import mean_absolute_error\n",
    "from sklearn.metrics import mean_squared_error\n",
    "from sklearn.metrics import r2_score\n",
    "from math import sqrt\n",
    "\n",
    "print('mean_absolute_error', mean_absolute_error(y_test_b, y_pred_b))\n",
    "print('mean_squared_error', mean_squared_error(y_test_b, y_pred_b))\n",
    "print('root_mean_squared_error', sqrt(mean_squared_error(y_test_b, y_pred_b)))\n",
    "print('r2', r2_score(y_test_b, y_pred_b))"
   ]
  },
  {
   "cell_type": "code",
   "execution_count": 45,
   "metadata": {},
   "outputs": [
    {
     "data": {
      "text/plain": [
       "<AxesSubplot:xlabel='true', ylabel='pred'>"
      ]
     },
     "execution_count": 45,
     "metadata": {},
     "output_type": "execute_result"
    },
    {
     "data": {
      "image/png": "[encoded data removed]",
      "text/plain": [
       "<Figure size 1440x720 with 1 Axes>"
      ]
     },
     "metadata": {
      "needs_background": "light"
     },
     "output_type": "display_data"
    }
   ],
   "source": [
    "data = {'true': y_test_b, 'pred': y_pred_b}\n",
    "results = pd.DataFrame(data)\n",
    "\n",
    "results.plot(figsize=(20,10), kind='scatter', x='true', y='pred')"
   ]
  },
  {
   "cell_type": "markdown",
   "metadata": {},
   "source": [
    "Could this be too good to be true? \n",
    "Yes! Data leakage, because the trip_distance directly correlats with the total_amount!"
   ]
  },
  {
   "cell_type": "markdown",
   "metadata": {},
   "source": [
    "# 5.4. Fix problems"
   ]
  },
  {
   "cell_type": "code",
   "execution_count": 46,
   "metadata": {},
   "outputs": [
    {
     "name": "stdout",
     "output_type": "stream",
     "text": [
      "mean_absolute_error 9.778205564362429\n",
      "mean_squared_error 217.23937445335145\n",
      "root_mean_squared_error 14.739042521593845\n",
      "r2 0.22476844306735844\n"
     ]
    }
   ],
   "source": [
    "categorical_features_benchmark = ['PULocationID', 'transaction_month', 'transaction_day', 'transaction_hour']\n",
    "input_features_benchmark = categorical_features_benchmark\n",
    "target_feature_benchmark = 'total_amount'\n",
    "\n",
    "# Train and test split\n",
    "from sklearn.model_selection import train_test_split\n",
    "\n",
    "X_bench = data_for_benchmark_model[input_features_benchmark]\n",
    "y_bench = data_for_benchmark_model[target_feature_benchmark]\n",
    "\n",
    "# one-hot encode\n",
    "X_bench = pd.get_dummies(X_bench)\n",
    "\n",
    "X_train_b, X_test_b, y_train_b, y_test_b = train_test_split(X_bench, y_bench, test_size=0.33, random_state=42)\n",
    "\n",
    "from sklearn.tree import DecisionTreeRegressor\n",
    "\n",
    "tree = DecisionTreeRegressor(max_depth=10)\n",
    "tree.fit(X_train_b, y_train_b)\n",
    "\n",
    "model_at_hand = tree\n",
    "\n",
    "y_pred_b = model_at_hand.predict(X_test_b)\n",
    "\n",
    "from sklearn.metrics import mean_absolute_error\n",
    "from sklearn.metrics import mean_squared_error\n",
    "from sklearn.metrics import r2_score\n",
    "from math import sqrt\n",
    "\n",
    "print('mean_absolute_error', mean_absolute_error(y_test_b, y_pred_b))\n",
    "print('mean_squared_error', mean_squared_error(y_test_b, y_pred_b))\n",
    "print('root_mean_squared_error', sqrt(mean_squared_error(y_test_b, y_pred_b)))\n",
    "print('r2', r2_score(y_test_b, y_pred_b))"
   ]
  },
  {
   "cell_type": "code",
   "execution_count": 47,
   "metadata": {},
   "outputs": [
    {
     "data": {
      "text/plain": [
       "<AxesSubplot:xlabel='true', ylabel='pred'>"
      ]
     },
     "execution_count": 47,
     "metadata": {},
     "output_type": "execute_result"
    },
    {
     "data": {
      "image/png": "[encoded data removed]",
      "text/plain": [
       "<Figure size 1440x720 with 1 Axes>"
      ]
     },
     "metadata": {
      "needs_background": "light"
     },
     "output_type": "display_data"
    }
   ],
   "source": [
    "data = {'true': y_test_b, 'pred': y_pred_b}\n",
    "results = pd.DataFrame(data)\n",
    "\n",
    "results.plot(figsize=(20,10), kind='scatter', x='true', y='pred')"
   ]
  },
  {
   "cell_type": "markdown",
   "metadata": {},
   "source": [
    "The best case would be a straigt line. This is far from it. Therefore I have to create some new features and repeat the process"
   ]
  },
  {
   "cell_type": "markdown",
   "metadata": {},
   "source": [
    "# 6. Feature engineering <a id='feature_engineering'></a>\n",
    "[Back to top](#table_of_contents)"
   ]
  },
  {
   "cell_type": "code",
   "execution_count": 48,
   "metadata": {},
   "outputs": [
    {
     "data": {
      "text/html": [
       "<div>\n",
       "<style scoped>\n",
       "    .dataframe tbody tr th:only-of-type {\n",
       "        vertical-align: middle;\n",
       "    }\n",
       "\n",
       "    .dataframe tbody tr th {\n",
       "        vertical-align: top;\n",
       "    }\n",
       "\n",
       "    .dataframe thead th {\n",
       "        text-align: right;\n",
       "    }\n",
       "</style>\n",
       "<table border=\"1\" class=\"dataframe\">\n",
       "  <thead>\n",
       "    <tr style=\"text-align: right;\">\n",
       "      <th></th>\n",
       "      <th>PULocationID</th>\n",
       "      <th>transaction_date</th>\n",
       "      <th>transaction_month</th>\n",
       "      <th>transaction_day</th>\n",
       "      <th>transaction_hour</th>\n",
       "      <th>trip_distance</th>\n",
       "      <th>total_amount</th>\n",
       "      <th>count_of_transactions</th>\n",
       "    </tr>\n",
       "  </thead>\n",
       "  <tbody>\n",
       "    <tr>\n",
       "      <th>0</th>\n",
       "      <td>1</td>\n",
       "      <td>2019-01-01</td>\n",
       "      <td>1</td>\n",
       "      <td>1</td>\n",
       "      <td>2</td>\n",
       "      <td>0.0</td>\n",
       "      <td>21.800</td>\n",
       "      <td>1</td>\n",
       "    </tr>\n",
       "    <tr>\n",
       "      <th>1</th>\n",
       "      <td>1</td>\n",
       "      <td>2019-01-01</td>\n",
       "      <td>1</td>\n",
       "      <td>1</td>\n",
       "      <td>5</td>\n",
       "      <td>0.0</td>\n",
       "      <td>87.300</td>\n",
       "      <td>1</td>\n",
       "    </tr>\n",
       "    <tr>\n",
       "      <th>2</th>\n",
       "      <td>1</td>\n",
       "      <td>2019-01-01</td>\n",
       "      <td>1</td>\n",
       "      <td>1</td>\n",
       "      <td>6</td>\n",
       "      <td>0.0</td>\n",
       "      <td>80.300</td>\n",
       "      <td>1</td>\n",
       "    </tr>\n",
       "    <tr>\n",
       "      <th>3</th>\n",
       "      <td>1</td>\n",
       "      <td>2019-01-01</td>\n",
       "      <td>1</td>\n",
       "      <td>1</td>\n",
       "      <td>8</td>\n",
       "      <td>0.0</td>\n",
       "      <td>128.580</td>\n",
       "      <td>2</td>\n",
       "    </tr>\n",
       "    <tr>\n",
       "      <th>4</th>\n",
       "      <td>1</td>\n",
       "      <td>2019-01-01</td>\n",
       "      <td>1</td>\n",
       "      <td>1</td>\n",
       "      <td>10</td>\n",
       "      <td>16.9</td>\n",
       "      <td>43.245</td>\n",
       "      <td>4</td>\n",
       "    </tr>\n",
       "  </tbody>\n",
       "</table>\n",
       "</div>"
      ],
      "text/plain": [
       "  PULocationID transaction_date  transaction_month  transaction_day  transaction_hour  trip_distance  total_amount  count_of_transactions\n",
       "0            1       2019-01-01                  1                1                 2            0.0        21.800                      1\n",
       "1            1       2019-01-01                  1                1                 5            0.0        87.300                      1\n",
       "2            1       2019-01-01                  1                1                 6            0.0        80.300                      1\n",
       "3            1       2019-01-01                  1                1                 8            0.0       128.580                      2\n",
       "4            1       2019-01-01                  1                1                10           16.9        43.245                      4"
      ]
     },
     "execution_count": 48,
     "metadata": {},
     "output_type": "execute_result"
    }
   ],
   "source": [
    "taxi_grouped_by_region.head()"
   ]
  },
  {
   "cell_type": "code",
   "execution_count": 49,
   "metadata": {},
   "outputs": [],
   "source": [
    "data_with_new_features = taxi_grouped_by_region.copy()"
   ]
  },
  {
   "cell_type": "markdown",
   "metadata": {},
   "source": [
    "#### Data-related features"
   ]
  },
  {
   "cell_type": "code",
   "execution_count": 50,
   "metadata": {},
   "outputs": [],
   "source": [
    "# Feature: Weekend?\n",
    "data_with_new_features['transaction_week_day'] = data_with_new_features['transaction_date'].dt.weekday\n",
    "data_with_new_features['weekend'] = data_with_new_features['transaction_week_day'].apply(lambda x: True if x==5 or x==6 else False)"
   ]
  },
  {
   "cell_type": "code",
   "execution_count": 51,
   "metadata": {},
   "outputs": [],
   "source": [
    "from pandas.tseries.holiday import USFederalHolidayCalendar\n",
    "\n",
    "cal = USFederalHolidayCalendar()\n",
    "holidays = cal.holidays(start='2018', end='2020').date\n",
    "\n",
    "data_with_new_features['is_holiday'] = data_with_new_features['transaction_date'].isin(holidays)"
   ]
  },
  {
   "cell_type": "code",
   "execution_count": 52,
   "metadata": {},
   "outputs": [
    {
     "data": {
      "text/html": [
       "<div>\n",
       "<style scoped>\n",
       "    .dataframe tbody tr th:only-of-type {\n",
       "        vertical-align: middle;\n",
       "    }\n",
       "\n",
       "    .dataframe tbody tr th {\n",
       "        vertical-align: top;\n",
       "    }\n",
       "\n",
       "    .dataframe thead th {\n",
       "        text-align: right;\n",
       "    }\n",
       "</style>\n",
       "<table border=\"1\" class=\"dataframe\">\n",
       "  <thead>\n",
       "    <tr style=\"text-align: right;\">\n",
       "      <th></th>\n",
       "      <th>PULocationID</th>\n",
       "      <th>transaction_date</th>\n",
       "      <th>transaction_month</th>\n",
       "      <th>transaction_day</th>\n",
       "      <th>transaction_hour</th>\n",
       "      <th>trip_distance</th>\n",
       "      <th>total_amount</th>\n",
       "      <th>count_of_transactions</th>\n",
       "      <th>transaction_week_day</th>\n",
       "      <th>weekend</th>\n",
       "      <th>is_holiday</th>\n",
       "    </tr>\n",
       "  </thead>\n",
       "  <tbody>\n",
       "    <tr>\n",
       "      <th>0</th>\n",
       "      <td>1</td>\n",
       "      <td>2019-01-01</td>\n",
       "      <td>1</td>\n",
       "      <td>1</td>\n",
       "      <td>2</td>\n",
       "      <td>0.0</td>\n",
       "      <td>21.800</td>\n",
       "      <td>1</td>\n",
       "      <td>1</td>\n",
       "      <td>False</td>\n",
       "      <td>True</td>\n",
       "    </tr>\n",
       "    <tr>\n",
       "      <th>1</th>\n",
       "      <td>1</td>\n",
       "      <td>2019-01-01</td>\n",
       "      <td>1</td>\n",
       "      <td>1</td>\n",
       "      <td>5</td>\n",
       "      <td>0.0</td>\n",
       "      <td>87.300</td>\n",
       "      <td>1</td>\n",
       "      <td>1</td>\n",
       "      <td>False</td>\n",
       "      <td>True</td>\n",
       "    </tr>\n",
       "    <tr>\n",
       "      <th>2</th>\n",
       "      <td>1</td>\n",
       "      <td>2019-01-01</td>\n",
       "      <td>1</td>\n",
       "      <td>1</td>\n",
       "      <td>6</td>\n",
       "      <td>0.0</td>\n",
       "      <td>80.300</td>\n",
       "      <td>1</td>\n",
       "      <td>1</td>\n",
       "      <td>False</td>\n",
       "      <td>True</td>\n",
       "    </tr>\n",
       "    <tr>\n",
       "      <th>3</th>\n",
       "      <td>1</td>\n",
       "      <td>2019-01-01</td>\n",
       "      <td>1</td>\n",
       "      <td>1</td>\n",
       "      <td>8</td>\n",
       "      <td>0.0</td>\n",
       "      <td>128.580</td>\n",
       "      <td>2</td>\n",
       "      <td>1</td>\n",
       "      <td>False</td>\n",
       "      <td>True</td>\n",
       "    </tr>\n",
       "    <tr>\n",
       "      <th>4</th>\n",
       "      <td>1</td>\n",
       "      <td>2019-01-01</td>\n",
       "      <td>1</td>\n",
       "      <td>1</td>\n",
       "      <td>10</td>\n",
       "      <td>16.9</td>\n",
       "      <td>43.245</td>\n",
       "      <td>4</td>\n",
       "      <td>1</td>\n",
       "      <td>False</td>\n",
       "      <td>True</td>\n",
       "    </tr>\n",
       "  </tbody>\n",
       "</table>\n",
       "</div>"
      ],
      "text/plain": [
       "  PULocationID transaction_date  transaction_month  transaction_day  transaction_hour  trip_distance  total_amount  count_of_transactions  transaction_week_day  weekend  is_holiday\n",
       "0            1       2019-01-01                  1                1                 2            0.0        21.800                      1                     1    False        True\n",
       "1            1       2019-01-01                  1                1                 5            0.0        87.300                      1                     1    False        True\n",
       "2            1       2019-01-01                  1                1                 6            0.0        80.300                      1                     1    False        True\n",
       "3            1       2019-01-01                  1                1                 8            0.0       128.580                      2                     1    False        True\n",
       "4            1       2019-01-01                  1                1                10           16.9        43.245                      4                     1    False        True"
      ]
     },
     "execution_count": 52,
     "metadata": {},
     "output_type": "execute_result"
    }
   ],
   "source": [
    "data_with_new_features.head()"
   ]
  },
  {
   "cell_type": "markdown",
   "metadata": {},
   "source": [
    "#### Borough information (irgendeine Information über verschiedene Bereiche/Gebiete in NYC)"
   ]
  },
  {
   "cell_type": "code",
   "execution_count": 53,
   "metadata": {},
   "outputs": [
    {
     "data": {
      "text/html": [
       "<div>\n",
       "<style scoped>\n",
       "    .dataframe tbody tr th:only-of-type {\n",
       "        vertical-align: middle;\n",
       "    }\n",
       "\n",
       "    .dataframe tbody tr th {\n",
       "        vertical-align: top;\n",
       "    }\n",
       "\n",
       "    .dataframe thead th {\n",
       "        text-align: right;\n",
       "    }\n",
       "</style>\n",
       "<table border=\"1\" class=\"dataframe\">\n",
       "  <thead>\n",
       "    <tr style=\"text-align: right;\">\n",
       "      <th></th>\n",
       "      <th>LocationID</th>\n",
       "      <th>Borough</th>\n",
       "    </tr>\n",
       "  </thead>\n",
       "  <tbody>\n",
       "    <tr>\n",
       "      <th>0</th>\n",
       "      <td>1</td>\n",
       "      <td>EWR</td>\n",
       "    </tr>\n",
       "    <tr>\n",
       "      <th>1</th>\n",
       "      <td>2</td>\n",
       "      <td>Queens</td>\n",
       "    </tr>\n",
       "    <tr>\n",
       "      <th>2</th>\n",
       "      <td>3</td>\n",
       "      <td>Bronx</td>\n",
       "    </tr>\n",
       "    <tr>\n",
       "      <th>3</th>\n",
       "      <td>4</td>\n",
       "      <td>Manhattan</td>\n",
       "    </tr>\n",
       "    <tr>\n",
       "      <th>4</th>\n",
       "      <td>5</td>\n",
       "      <td>Staten Island</td>\n",
       "    </tr>\n",
       "  </tbody>\n",
       "</table>\n",
       "</div>"
      ],
      "text/plain": [
       "  LocationID        Borough\n",
       "0          1            EWR\n",
       "1          2         Queens\n",
       "2          3          Bronx\n",
       "3          4      Manhattan\n",
       "4          5  Staten Island"
      ]
     },
     "execution_count": 53,
     "metadata": {},
     "output_type": "execute_result"
    }
   ],
   "source": [
    "zone_lookup = pd.read_csv('data/taxi+_zone_lookup.csv')\n",
    "zone_lookup = zone_lookup[['LocationID', 'Borough']]\n",
    "zone_lookup['LocationID'] = zone_lookup['LocationID'].astype(str)\n",
    "zone_lookup.head()"
   ]
  },
  {
   "cell_type": "code",
   "execution_count": 54,
   "metadata": {},
   "outputs": [
    {
     "data": {
      "text/html": [
       "<div>\n",
       "<style scoped>\n",
       "    .dataframe tbody tr th:only-of-type {\n",
       "        vertical-align: middle;\n",
       "    }\n",
       "\n",
       "    .dataframe tbody tr th {\n",
       "        vertical-align: top;\n",
       "    }\n",
       "\n",
       "    .dataframe thead th {\n",
       "        text-align: right;\n",
       "    }\n",
       "</style>\n",
       "<table border=\"1\" class=\"dataframe\">\n",
       "  <thead>\n",
       "    <tr style=\"text-align: right;\">\n",
       "      <th></th>\n",
       "      <th>PULocationID</th>\n",
       "      <th>transaction_date</th>\n",
       "      <th>transaction_month</th>\n",
       "      <th>transaction_day</th>\n",
       "      <th>transaction_hour</th>\n",
       "      <th>trip_distance</th>\n",
       "      <th>total_amount</th>\n",
       "      <th>count_of_transactions</th>\n",
       "      <th>transaction_week_day</th>\n",
       "      <th>weekend</th>\n",
       "      <th>is_holiday</th>\n",
       "      <th>Borough</th>\n",
       "    </tr>\n",
       "  </thead>\n",
       "  <tbody>\n",
       "    <tr>\n",
       "      <th>0</th>\n",
       "      <td>1</td>\n",
       "      <td>2019-01-01</td>\n",
       "      <td>1</td>\n",
       "      <td>1</td>\n",
       "      <td>2</td>\n",
       "      <td>0.0</td>\n",
       "      <td>21.800</td>\n",
       "      <td>1</td>\n",
       "      <td>1</td>\n",
       "      <td>False</td>\n",
       "      <td>True</td>\n",
       "      <td>EWR</td>\n",
       "    </tr>\n",
       "    <tr>\n",
       "      <th>1</th>\n",
       "      <td>1</td>\n",
       "      <td>2019-01-01</td>\n",
       "      <td>1</td>\n",
       "      <td>1</td>\n",
       "      <td>5</td>\n",
       "      <td>0.0</td>\n",
       "      <td>87.300</td>\n",
       "      <td>1</td>\n",
       "      <td>1</td>\n",
       "      <td>False</td>\n",
       "      <td>True</td>\n",
       "      <td>EWR</td>\n",
       "    </tr>\n",
       "    <tr>\n",
       "      <th>2</th>\n",
       "      <td>1</td>\n",
       "      <td>2019-01-01</td>\n",
       "      <td>1</td>\n",
       "      <td>1</td>\n",
       "      <td>6</td>\n",
       "      <td>0.0</td>\n",
       "      <td>80.300</td>\n",
       "      <td>1</td>\n",
       "      <td>1</td>\n",
       "      <td>False</td>\n",
       "      <td>True</td>\n",
       "      <td>EWR</td>\n",
       "    </tr>\n",
       "    <tr>\n",
       "      <th>3</th>\n",
       "      <td>1</td>\n",
       "      <td>2019-01-01</td>\n",
       "      <td>1</td>\n",
       "      <td>1</td>\n",
       "      <td>8</td>\n",
       "      <td>0.0</td>\n",
       "      <td>128.580</td>\n",
       "      <td>2</td>\n",
       "      <td>1</td>\n",
       "      <td>False</td>\n",
       "      <td>True</td>\n",
       "      <td>EWR</td>\n",
       "    </tr>\n",
       "    <tr>\n",
       "      <th>4</th>\n",
       "      <td>1</td>\n",
       "      <td>2019-01-01</td>\n",
       "      <td>1</td>\n",
       "      <td>1</td>\n",
       "      <td>10</td>\n",
       "      <td>16.9</td>\n",
       "      <td>43.245</td>\n",
       "      <td>4</td>\n",
       "      <td>1</td>\n",
       "      <td>False</td>\n",
       "      <td>True</td>\n",
       "      <td>EWR</td>\n",
       "    </tr>\n",
       "  </tbody>\n",
       "</table>\n",
       "</div>"
      ],
      "text/plain": [
       "  PULocationID transaction_date  transaction_month  transaction_day  transaction_hour  trip_distance  total_amount  count_of_transactions  transaction_week_day  weekend  is_holiday Borough\n",
       "0            1       2019-01-01                  1                1                 2            0.0        21.800                      1                     1    False        True     EWR\n",
       "1            1       2019-01-01                  1                1                 5            0.0        87.300                      1                     1    False        True     EWR\n",
       "2            1       2019-01-01                  1                1                 6            0.0        80.300                      1                     1    False        True     EWR\n",
       "3            1       2019-01-01                  1                1                 8            0.0       128.580                      2                     1    False        True     EWR\n",
       "4            1       2019-01-01                  1                1                10           16.9        43.245                      4                     1    False        True     EWR"
      ]
     },
     "execution_count": 54,
     "metadata": {},
     "output_type": "execute_result"
    }
   ],
   "source": [
    "data_with_new_features = data_with_new_features.merge(zone_lookup, left_on='PULocationID', right_on='LocationID', how='left')\n",
    "data_with_new_features.drop('LocationID', axis=1, inplace=True)\n",
    "data_with_new_features.head()"
   ]
  },
  {
   "cell_type": "code",
   "execution_count": 55,
   "metadata": {},
   "outputs": [
    {
     "data": {
      "text/plain": [
       "Manhattan        45309\n",
       "Brooklyn         23633\n",
       "Queens           22002\n",
       "Bronx             9586\n",
       "Unknown           1453\n",
       "Staten Island      302\n",
       "EWR                271\n",
       "Name: Borough, dtype: int64"
      ]
     },
     "execution_count": 55,
     "metadata": {},
     "output_type": "execute_result"
    }
   ],
   "source": [
    "data_with_new_features['Borough'].value_counts()"
   ]
  },
  {
   "cell_type": "markdown",
   "metadata": {},
   "source": [
    "#### Weather related features"
   ]
  },
  {
   "cell_type": "code",
   "execution_count": 56,
   "metadata": {},
   "outputs": [
    {
     "data": {
      "text/html": [
       "<div>\n",
       "<style scoped>\n",
       "    .dataframe tbody tr th:only-of-type {\n",
       "        vertical-align: middle;\n",
       "    }\n",
       "\n",
       "    .dataframe tbody tr th {\n",
       "        vertical-align: top;\n",
       "    }\n",
       "\n",
       "    .dataframe thead th {\n",
       "        text-align: right;\n",
       "    }\n",
       "</style>\n",
       "<table border=\"1\" class=\"dataframe\">\n",
       "  <thead>\n",
       "    <tr style=\"text-align: right;\">\n",
       "      <th></th>\n",
       "      <th>date and time</th>\n",
       "      <th>temperature</th>\n",
       "      <th>humidity</th>\n",
       "      <th>wind speed</th>\n",
       "      <th>cloud cover</th>\n",
       "      <th>amount of precipitation</th>\n",
       "    </tr>\n",
       "  </thead>\n",
       "  <tbody>\n",
       "    <tr>\n",
       "      <th>0</th>\n",
       "      <td>31.12.2019 22:00</td>\n",
       "      <td>6.1</td>\n",
       "      <td>65</td>\n",
       "      <td>6</td>\n",
       "      <td>100%.</td>\n",
       "      <td>0.3</td>\n",
       "    </tr>\n",
       "    <tr>\n",
       "      <th>1</th>\n",
       "      <td>31.12.2019 19:00</td>\n",
       "      <td>6.7</td>\n",
       "      <td>71</td>\n",
       "      <td>5</td>\n",
       "      <td>70 – 80%.</td>\n",
       "      <td>NaN</td>\n",
       "    </tr>\n",
       "    <tr>\n",
       "      <th>2</th>\n",
       "      <td>31.12.2019 16:00</td>\n",
       "      <td>7.2</td>\n",
       "      <td>66</td>\n",
       "      <td>5</td>\n",
       "      <td>50%.</td>\n",
       "      <td>NaN</td>\n",
       "    </tr>\n",
       "    <tr>\n",
       "      <th>3</th>\n",
       "      <td>31.12.2019 13:00</td>\n",
       "      <td>6.1</td>\n",
       "      <td>76</td>\n",
       "      <td>3</td>\n",
       "      <td>100%.</td>\n",
       "      <td>Trace of precipitation</td>\n",
       "    </tr>\n",
       "    <tr>\n",
       "      <th>4</th>\n",
       "      <td>31.12.2019 10:00</td>\n",
       "      <td>4.4</td>\n",
       "      <td>83</td>\n",
       "      <td>2</td>\n",
       "      <td>100%.</td>\n",
       "      <td>Trace of precipitation</td>\n",
       "    </tr>\n",
       "  </tbody>\n",
       "</table>\n",
       "</div>"
      ],
      "text/plain": [
       "      date and time  temperature  humidity  wind speed cloud cover amount of precipitation\n",
       "0  31.12.2019 22:00          6.1        65           6       100%.                     0.3\n",
       "1  31.12.2019 19:00          6.7        71           5   70 – 80%.                     NaN\n",
       "2  31.12.2019 16:00          7.2        66           5        50%.                     NaN\n",
       "3  31.12.2019 13:00          6.1        76           3       100%.  Trace of precipitation\n",
       "4  31.12.2019 10:00          4.4        83           2       100%.  Trace of precipitation"
      ]
     },
     "execution_count": 56,
     "metadata": {},
     "output_type": "execute_result"
    }
   ],
   "source": [
    "nyc_weather = pd.read_csv('data/nyc_weather.csv')\n",
    "nyc_weather.head()"
   ]
  },
  {
   "cell_type": "markdown",
   "metadata": {},
   "source": [
    "There are some missing values and there are precentage values that we cannot work easily with. Let's look at them more closely."
   ]
  },
  {
   "cell_type": "code",
   "execution_count": 57,
   "metadata": {},
   "outputs": [
    {
     "data": {
      "text/plain": [
       "date and time               object\n",
       "temperature                float64\n",
       "humidity                     int64\n",
       "wind speed                   int64\n",
       "cloud cover                 object\n",
       "amount of precipitation     object\n",
       "dtype: object"
      ]
     },
     "execution_count": 57,
     "metadata": {},
     "output_type": "execute_result"
    }
   ],
   "source": [
    "nyc_weather.dtypes"
   ]
  },
  {
   "cell_type": "code",
   "execution_count": 58,
   "metadata": {},
   "outputs": [
    {
     "data": {
      "text/plain": [
       "70 – 80%.                                                     973\n",
       "100%.                                                         896\n",
       "20–30%.                                                       479\n",
       "50%.                                                          413\n",
       "no clouds                                                     168\n",
       "Sky obscured by fog and/or other meteorological phenomena.      3\n",
       "Name: cloud cover, dtype: int64"
      ]
     },
     "execution_count": 58,
     "metadata": {},
     "output_type": "execute_result"
    }
   ],
   "source": [
    "nyc_weather['cloud cover'].value_counts()"
   ]
  },
  {
   "cell_type": "code",
   "execution_count": 59,
   "metadata": {},
   "outputs": [
    {
     "data": {
      "text/plain": [
       "Trace of precipitation    266\n",
       "0.3                        61\n",
       "2.0                        49\n",
       "1.0                        45\n",
       "0.5                        42\n",
       "0.8                        42\n",
       "4.0                        33\n",
       "5.0                        24\n",
       "3.0                        23\n",
       "6.0                        19\n",
       "8.0                        13\n",
       "7.0                        13\n",
       "9.0                        11\n",
       "10.0                       10\n",
       "13.0                        7\n",
       "12.0                        7\n",
       "15.0                        6\n",
       "11.0                        5\n",
       "16.0                        3\n",
       "14.0                        2\n",
       "29.0                        2\n",
       "22.0                        2\n",
       "34.0                        1\n",
       "24.0                        1\n",
       "21.0                        1\n",
       "30.0                        1\n",
       "68.0                        1\n",
       "35.0                        1\n",
       "20.0                        1\n",
       "17.0                        1\n",
       "18.0                        1\n",
       "63.0                        1\n",
       "25.0                        1\n",
       "Name: amount of precipitation, dtype: int64"
      ]
     },
     "execution_count": 59,
     "metadata": {},
     "output_type": "execute_result"
    }
   ],
   "source": [
    "nyc_weather['amount of precipitation'].value_counts()"
   ]
  },
  {
   "cell_type": "code",
   "execution_count": 60,
   "metadata": {},
   "outputs": [
    {
     "data": {
      "text/plain": [
       "date and time                 0\n",
       "temperature                   0\n",
       "humidity                      0\n",
       "wind speed                    0\n",
       "cloud cover                   4\n",
       "amount of precipitation    2240\n",
       "dtype: int64"
      ]
     },
     "execution_count": 60,
     "metadata": {},
     "output_type": "execute_result"
    }
   ],
   "source": [
    "nyc_weather.isna().sum()"
   ]
  },
  {
   "cell_type": "markdown",
   "metadata": {},
   "source": [
    "Trace of precipitation can be thought of as 0.1\n",
    "And the missing values 0"
   ]
  },
  {
   "cell_type": "code",
   "execution_count": 61,
   "metadata": {},
   "outputs": [],
   "source": [
    "nyc_weather['amount of precipitation'] = nyc_weather['amount of precipitation'].replace('Trace of precipitation', 0.1)\n",
    "nyc_weather['amount of precipitation'] = nyc_weather['amount of precipitation'].astype(float)\n",
    "\n",
    "# Option 1:\n",
    "# nyc_weather['amount of precipitation'].fillna(0, inplace=True)\n",
    "\n",
    "# Option 2:\n",
    "# nyc_weather['amount of precipitation'].fillna(method='ffill', inplace=True)\n",
    "\n",
    "# Option 3:\n",
    "nyc_weather['amount of precipitation'].interpolate(inplace=True)"
   ]
  },
  {
   "cell_type": "code",
   "execution_count": 62,
   "metadata": {},
   "outputs": [],
   "source": [
    "nyc_weather['cloud cover'] = nyc_weather['cloud cover'].replace('70 – 80%.', 0.7)\n",
    "nyc_weather['cloud cover'] = nyc_weather['cloud cover'].replace('100%.', 1)\n",
    "nyc_weather['cloud cover'] = nyc_weather['cloud cover'].replace('20–30%.', 0.3)\n",
    "nyc_weather['cloud cover'] = nyc_weather['cloud cover'].replace('50%.', 0.5)\n",
    "nyc_weather['cloud cover'] = nyc_weather['cloud cover'].replace('no clouds', 0)\n",
    "nyc_weather['cloud cover'] = nyc_weather['cloud cover'].replace('Sky obscured by fog and/or other meteorological phenomena.', 1)\n",
    "nyc_weather['cloud cover'] = nyc_weather['cloud cover'].astype(float)\n",
    "nyc_weather['cloud cover'].interpolate(inplace=True)"
   ]
  },
  {
   "cell_type": "code",
   "execution_count": 63,
   "metadata": {},
   "outputs": [
    {
     "data": {
      "text/plain": [
       "date and time               object\n",
       "temperature                float64\n",
       "humidity                     int64\n",
       "wind speed                   int64\n",
       "cloud cover                float64\n",
       "amount of precipitation    float64\n",
       "dtype: object"
      ]
     },
     "execution_count": 63,
     "metadata": {},
     "output_type": "execute_result"
    }
   ],
   "source": [
    "nyc_weather.dtypes"
   ]
  },
  {
   "cell_type": "code",
   "execution_count": 64,
   "metadata": {},
   "outputs": [],
   "source": [
    "nyc_weather.loc[:,'date and time'] = pd.to_datetime(nyc_weather.loc[:,'date and time'])\n",
    "nyc_weather['hour'] = nyc_weather['date and time'].dt.hour\n",
    "nyc_weather['month'] = nyc_weather['date and time'].dt.month\n",
    "nyc_weather['day'] = nyc_weather['date and time'].dt.day"
   ]
  },
  {
   "cell_type": "code",
   "execution_count": 65,
   "metadata": {},
   "outputs": [
    {
     "data": {
      "text/html": [
       "<div>\n",
       "<style scoped>\n",
       "    .dataframe tbody tr th:only-of-type {\n",
       "        vertical-align: middle;\n",
       "    }\n",
       "\n",
       "    .dataframe tbody tr th {\n",
       "        vertical-align: top;\n",
       "    }\n",
       "\n",
       "    .dataframe thead th {\n",
       "        text-align: right;\n",
       "    }\n",
       "</style>\n",
       "<table border=\"1\" class=\"dataframe\">\n",
       "  <thead>\n",
       "    <tr style=\"text-align: right;\">\n",
       "      <th></th>\n",
       "      <th>date and time</th>\n",
       "      <th>temperature</th>\n",
       "      <th>humidity</th>\n",
       "      <th>wind speed</th>\n",
       "      <th>cloud cover</th>\n",
       "      <th>amount of precipitation</th>\n",
       "      <th>hour</th>\n",
       "      <th>month</th>\n",
       "      <th>day</th>\n",
       "    </tr>\n",
       "  </thead>\n",
       "  <tbody>\n",
       "    <tr>\n",
       "      <th>0</th>\n",
       "      <td>2019-12-31 22:00:00</td>\n",
       "      <td>6.1</td>\n",
       "      <td>65</td>\n",
       "      <td>6</td>\n",
       "      <td>1.0</td>\n",
       "      <td>0.300000</td>\n",
       "      <td>22</td>\n",
       "      <td>12</td>\n",
       "      <td>31</td>\n",
       "    </tr>\n",
       "    <tr>\n",
       "      <th>1</th>\n",
       "      <td>2019-12-31 19:00:00</td>\n",
       "      <td>6.7</td>\n",
       "      <td>71</td>\n",
       "      <td>5</td>\n",
       "      <td>0.7</td>\n",
       "      <td>0.233333</td>\n",
       "      <td>19</td>\n",
       "      <td>12</td>\n",
       "      <td>31</td>\n",
       "    </tr>\n",
       "    <tr>\n",
       "      <th>2</th>\n",
       "      <td>2019-12-31 16:00:00</td>\n",
       "      <td>7.2</td>\n",
       "      <td>66</td>\n",
       "      <td>5</td>\n",
       "      <td>0.5</td>\n",
       "      <td>0.166667</td>\n",
       "      <td>16</td>\n",
       "      <td>12</td>\n",
       "      <td>31</td>\n",
       "    </tr>\n",
       "    <tr>\n",
       "      <th>3</th>\n",
       "      <td>2019-12-31 13:00:00</td>\n",
       "      <td>6.1</td>\n",
       "      <td>76</td>\n",
       "      <td>3</td>\n",
       "      <td>1.0</td>\n",
       "      <td>0.100000</td>\n",
       "      <td>13</td>\n",
       "      <td>12</td>\n",
       "      <td>31</td>\n",
       "    </tr>\n",
       "    <tr>\n",
       "      <th>4</th>\n",
       "      <td>2019-12-31 10:00:00</td>\n",
       "      <td>4.4</td>\n",
       "      <td>83</td>\n",
       "      <td>2</td>\n",
       "      <td>1.0</td>\n",
       "      <td>0.100000</td>\n",
       "      <td>10</td>\n",
       "      <td>12</td>\n",
       "      <td>31</td>\n",
       "    </tr>\n",
       "  </tbody>\n",
       "</table>\n",
       "</div>"
      ],
      "text/plain": [
       "        date and time  temperature  humidity  wind speed  cloud cover  amount of precipitation  hour  month  day\n",
       "0 2019-12-31 22:00:00          6.1        65           6          1.0                 0.300000    22     12   31\n",
       "1 2019-12-31 19:00:00          6.7        71           5          0.7                 0.233333    19     12   31\n",
       "2 2019-12-31 16:00:00          7.2        66           5          0.5                 0.166667    16     12   31\n",
       "3 2019-12-31 13:00:00          6.1        76           3          1.0                 0.100000    13     12   31\n",
       "4 2019-12-31 10:00:00          4.4        83           2          1.0                 0.100000    10     12   31"
      ]
     },
     "execution_count": 65,
     "metadata": {},
     "output_type": "execute_result"
    }
   ],
   "source": [
    "nyc_weather.head()"
   ]
  },
  {
   "cell_type": "code",
   "execution_count": 66,
   "metadata": {},
   "outputs": [
    {
     "data": {
      "text/html": [
       "<div>\n",
       "<style scoped>\n",
       "    .dataframe tbody tr th:only-of-type {\n",
       "        vertical-align: middle;\n",
       "    }\n",
       "\n",
       "    .dataframe tbody tr th {\n",
       "        vertical-align: top;\n",
       "    }\n",
       "\n",
       "    .dataframe thead th {\n",
       "        text-align: right;\n",
       "    }\n",
       "</style>\n",
       "<table border=\"1\" class=\"dataframe\">\n",
       "  <thead>\n",
       "    <tr style=\"text-align: right;\">\n",
       "      <th></th>\n",
       "      <th>PULocationID</th>\n",
       "      <th>transaction_date</th>\n",
       "      <th>transaction_month</th>\n",
       "      <th>transaction_day</th>\n",
       "      <th>transaction_hour</th>\n",
       "      <th>trip_distance</th>\n",
       "      <th>total_amount</th>\n",
       "      <th>count_of_transactions</th>\n",
       "      <th>transaction_week_day</th>\n",
       "      <th>weekend</th>\n",
       "      <th>is_holiday</th>\n",
       "      <th>Borough</th>\n",
       "    </tr>\n",
       "  </thead>\n",
       "  <tbody>\n",
       "    <tr>\n",
       "      <th>0</th>\n",
       "      <td>1</td>\n",
       "      <td>2019-01-01</td>\n",
       "      <td>1</td>\n",
       "      <td>1</td>\n",
       "      <td>2</td>\n",
       "      <td>0.0</td>\n",
       "      <td>21.800</td>\n",
       "      <td>1</td>\n",
       "      <td>1</td>\n",
       "      <td>False</td>\n",
       "      <td>True</td>\n",
       "      <td>EWR</td>\n",
       "    </tr>\n",
       "    <tr>\n",
       "      <th>1</th>\n",
       "      <td>1</td>\n",
       "      <td>2019-01-01</td>\n",
       "      <td>1</td>\n",
       "      <td>1</td>\n",
       "      <td>5</td>\n",
       "      <td>0.0</td>\n",
       "      <td>87.300</td>\n",
       "      <td>1</td>\n",
       "      <td>1</td>\n",
       "      <td>False</td>\n",
       "      <td>True</td>\n",
       "      <td>EWR</td>\n",
       "    </tr>\n",
       "    <tr>\n",
       "      <th>2</th>\n",
       "      <td>1</td>\n",
       "      <td>2019-01-01</td>\n",
       "      <td>1</td>\n",
       "      <td>1</td>\n",
       "      <td>6</td>\n",
       "      <td>0.0</td>\n",
       "      <td>80.300</td>\n",
       "      <td>1</td>\n",
       "      <td>1</td>\n",
       "      <td>False</td>\n",
       "      <td>True</td>\n",
       "      <td>EWR</td>\n",
       "    </tr>\n",
       "    <tr>\n",
       "      <th>3</th>\n",
       "      <td>1</td>\n",
       "      <td>2019-01-01</td>\n",
       "      <td>1</td>\n",
       "      <td>1</td>\n",
       "      <td>8</td>\n",
       "      <td>0.0</td>\n",
       "      <td>128.580</td>\n",
       "      <td>2</td>\n",
       "      <td>1</td>\n",
       "      <td>False</td>\n",
       "      <td>True</td>\n",
       "      <td>EWR</td>\n",
       "    </tr>\n",
       "    <tr>\n",
       "      <th>4</th>\n",
       "      <td>1</td>\n",
       "      <td>2019-01-01</td>\n",
       "      <td>1</td>\n",
       "      <td>1</td>\n",
       "      <td>10</td>\n",
       "      <td>16.9</td>\n",
       "      <td>43.245</td>\n",
       "      <td>4</td>\n",
       "      <td>1</td>\n",
       "      <td>False</td>\n",
       "      <td>True</td>\n",
       "      <td>EWR</td>\n",
       "    </tr>\n",
       "  </tbody>\n",
       "</table>\n",
       "</div>"
      ],
      "text/plain": [
       "  PULocationID transaction_date  transaction_month  transaction_day  transaction_hour  trip_distance  total_amount  count_of_transactions  transaction_week_day  weekend  is_holiday Borough\n",
       "0            1       2019-01-01                  1                1                 2            0.0        21.800                      1                     1    False        True     EWR\n",
       "1            1       2019-01-01                  1                1                 5            0.0        87.300                      1                     1    False        True     EWR\n",
       "2            1       2019-01-01                  1                1                 6            0.0        80.300                      1                     1    False        True     EWR\n",
       "3            1       2019-01-01                  1                1                 8            0.0       128.580                      2                     1    False        True     EWR\n",
       "4            1       2019-01-01                  1                1                10           16.9        43.245                      4                     1    False        True     EWR"
      ]
     },
     "execution_count": 66,
     "metadata": {},
     "output_type": "execute_result"
    }
   ],
   "source": [
    "data_with_new_features.head()"
   ]
  },
  {
   "cell_type": "code",
   "execution_count": 67,
   "metadata": {},
   "outputs": [
    {
     "name": "stdout",
     "output_type": "stream",
     "text": [
      "(102556, 21)\n"
     ]
    },
    {
     "data": {
      "text/html": [
       "<div>\n",
       "<style scoped>\n",
       "    .dataframe tbody tr th:only-of-type {\n",
       "        vertical-align: middle;\n",
       "    }\n",
       "\n",
       "    .dataframe tbody tr th {\n",
       "        vertical-align: top;\n",
       "    }\n",
       "\n",
       "    .dataframe thead th {\n",
       "        text-align: right;\n",
       "    }\n",
       "</style>\n",
       "<table border=\"1\" class=\"dataframe\">\n",
       "  <thead>\n",
       "    <tr style=\"text-align: right;\">\n",
       "      <th></th>\n",
       "      <th>PULocationID</th>\n",
       "      <th>transaction_date</th>\n",
       "      <th>transaction_month</th>\n",
       "      <th>transaction_day</th>\n",
       "      <th>transaction_hour</th>\n",
       "      <th>trip_distance</th>\n",
       "      <th>total_amount</th>\n",
       "      <th>count_of_transactions</th>\n",
       "      <th>transaction_week_day</th>\n",
       "      <th>weekend</th>\n",
       "      <th>is_holiday</th>\n",
       "      <th>Borough</th>\n",
       "      <th>date and time</th>\n",
       "      <th>temperature</th>\n",
       "      <th>humidity</th>\n",
       "      <th>wind speed</th>\n",
       "      <th>cloud cover</th>\n",
       "      <th>amount of precipitation</th>\n",
       "      <th>hour</th>\n",
       "      <th>month</th>\n",
       "      <th>day</th>\n",
       "    </tr>\n",
       "  </thead>\n",
       "  <tbody>\n",
       "    <tr>\n",
       "      <th>0</th>\n",
       "      <td>1</td>\n",
       "      <td>2019-01-01</td>\n",
       "      <td>1</td>\n",
       "      <td>1</td>\n",
       "      <td>2</td>\n",
       "      <td>0.0</td>\n",
       "      <td>21.800</td>\n",
       "      <td>1</td>\n",
       "      <td>1</td>\n",
       "      <td>False</td>\n",
       "      <td>True</td>\n",
       "      <td>EWR</td>\n",
       "      <td>NaT</td>\n",
       "      <td>NaN</td>\n",
       "      <td>NaN</td>\n",
       "      <td>NaN</td>\n",
       "      <td>NaN</td>\n",
       "      <td>NaN</td>\n",
       "      <td>NaN</td>\n",
       "      <td>NaN</td>\n",
       "      <td>NaN</td>\n",
       "    </tr>\n",
       "    <tr>\n",
       "      <th>1</th>\n",
       "      <td>1</td>\n",
       "      <td>2019-01-01</td>\n",
       "      <td>1</td>\n",
       "      <td>1</td>\n",
       "      <td>5</td>\n",
       "      <td>0.0</td>\n",
       "      <td>87.300</td>\n",
       "      <td>1</td>\n",
       "      <td>1</td>\n",
       "      <td>False</td>\n",
       "      <td>True</td>\n",
       "      <td>EWR</td>\n",
       "      <td>NaT</td>\n",
       "      <td>NaN</td>\n",
       "      <td>NaN</td>\n",
       "      <td>NaN</td>\n",
       "      <td>NaN</td>\n",
       "      <td>NaN</td>\n",
       "      <td>NaN</td>\n",
       "      <td>NaN</td>\n",
       "      <td>NaN</td>\n",
       "    </tr>\n",
       "    <tr>\n",
       "      <th>2</th>\n",
       "      <td>1</td>\n",
       "      <td>2019-01-01</td>\n",
       "      <td>1</td>\n",
       "      <td>1</td>\n",
       "      <td>6</td>\n",
       "      <td>0.0</td>\n",
       "      <td>80.300</td>\n",
       "      <td>1</td>\n",
       "      <td>1</td>\n",
       "      <td>False</td>\n",
       "      <td>True</td>\n",
       "      <td>EWR</td>\n",
       "      <td>NaT</td>\n",
       "      <td>NaN</td>\n",
       "      <td>NaN</td>\n",
       "      <td>NaN</td>\n",
       "      <td>NaN</td>\n",
       "      <td>NaN</td>\n",
       "      <td>NaN</td>\n",
       "      <td>NaN</td>\n",
       "      <td>NaN</td>\n",
       "    </tr>\n",
       "    <tr>\n",
       "      <th>3</th>\n",
       "      <td>1</td>\n",
       "      <td>2019-01-01</td>\n",
       "      <td>1</td>\n",
       "      <td>1</td>\n",
       "      <td>8</td>\n",
       "      <td>0.0</td>\n",
       "      <td>128.580</td>\n",
       "      <td>2</td>\n",
       "      <td>1</td>\n",
       "      <td>False</td>\n",
       "      <td>True</td>\n",
       "      <td>EWR</td>\n",
       "      <td>NaT</td>\n",
       "      <td>NaN</td>\n",
       "      <td>NaN</td>\n",
       "      <td>NaN</td>\n",
       "      <td>NaN</td>\n",
       "      <td>NaN</td>\n",
       "      <td>NaN</td>\n",
       "      <td>NaN</td>\n",
       "      <td>NaN</td>\n",
       "    </tr>\n",
       "    <tr>\n",
       "      <th>4</th>\n",
       "      <td>1</td>\n",
       "      <td>2019-01-01</td>\n",
       "      <td>1</td>\n",
       "      <td>1</td>\n",
       "      <td>10</td>\n",
       "      <td>16.9</td>\n",
       "      <td>43.245</td>\n",
       "      <td>4</td>\n",
       "      <td>1</td>\n",
       "      <td>False</td>\n",
       "      <td>True</td>\n",
       "      <td>EWR</td>\n",
       "      <td>2019-01-01 10:00:00</td>\n",
       "      <td>15.6</td>\n",
       "      <td>62.0</td>\n",
       "      <td>11.0</td>\n",
       "      <td>0.7</td>\n",
       "      <td>0.473333</td>\n",
       "      <td>10.0</td>\n",
       "      <td>1.0</td>\n",
       "      <td>1.0</td>\n",
       "    </tr>\n",
       "  </tbody>\n",
       "</table>\n",
       "</div>"
      ],
      "text/plain": [
       "  PULocationID transaction_date  transaction_month  transaction_day  transaction_hour  trip_distance  total_amount  count_of_transactions  transaction_week_day  weekend  is_holiday Borough       date and time  temperature  humidity  wind speed  cloud cover  amount of precipitation  hour  month  day\n",
       "0            1       2019-01-01                  1                1                 2            0.0        21.800                      1                     1    False        True     EWR                 NaT          NaN       NaN         NaN          NaN                      NaN   NaN    NaN  NaN\n",
       "1            1       2019-01-01                  1                1                 5            0.0        87.300                      1                     1    False        True     EWR                 NaT          NaN       NaN         NaN          NaN                      NaN   NaN    NaN  NaN\n",
       "2            1       2019-01-01                  1                1                 6            0.0        80.300                      1                     1    False        True     EWR                 NaT          NaN       NaN         NaN          NaN                      NaN   NaN    NaN  NaN\n",
       "3            1       2019-01-01                  1                1                 8            0.0       128.580                      2                     1    False        True     EWR                 NaT          NaN       NaN         NaN          NaN                      NaN   NaN    NaN  NaN\n",
       "4            1       2019-01-01                  1                1                10           16.9        43.245                      4                     1    False        True     EWR 2019-01-01 10:00:00         15.6      62.0        11.0          0.7                 0.473333  10.0    1.0  1.0"
      ]
     },
     "execution_count": 67,
     "metadata": {},
     "output_type": "execute_result"
    }
   ],
   "source": [
    "nyc_taxi_with_weather = data_with_new_features.merge(nyc_weather,\n",
    "                                                     left_on = ['transaction_month','transaction_day','transaction_hour'],\n",
    "                                                     right_on = ['month','day','hour'],\n",
    "                                                     how='left')\n",
    "\n",
    "print(nyc_taxi_with_weather.shape)\n",
    "nyc_taxi_with_weather.head()"
   ]
  },
  {
   "cell_type": "code",
   "execution_count": 68,
   "metadata": {},
   "outputs": [],
   "source": [
    "nyc_taxi_with_weather = nyc_taxi_with_weather.drop(['date and time','hour','month','day'], axis=1)"
   ]
  },
  {
   "cell_type": "code",
   "execution_count": 69,
   "metadata": {},
   "outputs": [
    {
     "data": {
      "text/html": [
       "<div>\n",
       "<style scoped>\n",
       "    .dataframe tbody tr th:only-of-type {\n",
       "        vertical-align: middle;\n",
       "    }\n",
       "\n",
       "    .dataframe tbody tr th {\n",
       "        vertical-align: top;\n",
       "    }\n",
       "\n",
       "    .dataframe thead th {\n",
       "        text-align: right;\n",
       "    }\n",
       "</style>\n",
       "<table border=\"1\" class=\"dataframe\">\n",
       "  <thead>\n",
       "    <tr style=\"text-align: right;\">\n",
       "      <th></th>\n",
       "      <th>PULocationID</th>\n",
       "      <th>transaction_date</th>\n",
       "      <th>transaction_month</th>\n",
       "      <th>transaction_day</th>\n",
       "      <th>transaction_hour</th>\n",
       "      <th>trip_distance</th>\n",
       "      <th>total_amount</th>\n",
       "      <th>count_of_transactions</th>\n",
       "      <th>transaction_week_day</th>\n",
       "      <th>weekend</th>\n",
       "      <th>is_holiday</th>\n",
       "      <th>Borough</th>\n",
       "      <th>temperature</th>\n",
       "      <th>humidity</th>\n",
       "      <th>wind speed</th>\n",
       "      <th>cloud cover</th>\n",
       "      <th>amount of precipitation</th>\n",
       "    </tr>\n",
       "  </thead>\n",
       "  <tbody>\n",
       "    <tr>\n",
       "      <th>0</th>\n",
       "      <td>1</td>\n",
       "      <td>2019-01-01</td>\n",
       "      <td>1</td>\n",
       "      <td>1</td>\n",
       "      <td>2</td>\n",
       "      <td>0.0</td>\n",
       "      <td>21.800</td>\n",
       "      <td>1</td>\n",
       "      <td>1</td>\n",
       "      <td>False</td>\n",
       "      <td>True</td>\n",
       "      <td>EWR</td>\n",
       "      <td>NaN</td>\n",
       "      <td>NaN</td>\n",
       "      <td>NaN</td>\n",
       "      <td>NaN</td>\n",
       "      <td>NaN</td>\n",
       "    </tr>\n",
       "    <tr>\n",
       "      <th>1</th>\n",
       "      <td>1</td>\n",
       "      <td>2019-01-01</td>\n",
       "      <td>1</td>\n",
       "      <td>1</td>\n",
       "      <td>5</td>\n",
       "      <td>0.0</td>\n",
       "      <td>87.300</td>\n",
       "      <td>1</td>\n",
       "      <td>1</td>\n",
       "      <td>False</td>\n",
       "      <td>True</td>\n",
       "      <td>EWR</td>\n",
       "      <td>NaN</td>\n",
       "      <td>NaN</td>\n",
       "      <td>NaN</td>\n",
       "      <td>NaN</td>\n",
       "      <td>NaN</td>\n",
       "    </tr>\n",
       "    <tr>\n",
       "      <th>2</th>\n",
       "      <td>1</td>\n",
       "      <td>2019-01-01</td>\n",
       "      <td>1</td>\n",
       "      <td>1</td>\n",
       "      <td>6</td>\n",
       "      <td>0.0</td>\n",
       "      <td>80.300</td>\n",
       "      <td>1</td>\n",
       "      <td>1</td>\n",
       "      <td>False</td>\n",
       "      <td>True</td>\n",
       "      <td>EWR</td>\n",
       "      <td>NaN</td>\n",
       "      <td>NaN</td>\n",
       "      <td>NaN</td>\n",
       "      <td>NaN</td>\n",
       "      <td>NaN</td>\n",
       "    </tr>\n",
       "    <tr>\n",
       "      <th>3</th>\n",
       "      <td>1</td>\n",
       "      <td>2019-01-01</td>\n",
       "      <td>1</td>\n",
       "      <td>1</td>\n",
       "      <td>8</td>\n",
       "      <td>0.0</td>\n",
       "      <td>128.580</td>\n",
       "      <td>2</td>\n",
       "      <td>1</td>\n",
       "      <td>False</td>\n",
       "      <td>True</td>\n",
       "      <td>EWR</td>\n",
       "      <td>NaN</td>\n",
       "      <td>NaN</td>\n",
       "      <td>NaN</td>\n",
       "      <td>NaN</td>\n",
       "      <td>NaN</td>\n",
       "    </tr>\n",
       "    <tr>\n",
       "      <th>4</th>\n",
       "      <td>1</td>\n",
       "      <td>2019-01-01</td>\n",
       "      <td>1</td>\n",
       "      <td>1</td>\n",
       "      <td>10</td>\n",
       "      <td>16.9</td>\n",
       "      <td>43.245</td>\n",
       "      <td>4</td>\n",
       "      <td>1</td>\n",
       "      <td>False</td>\n",
       "      <td>True</td>\n",
       "      <td>EWR</td>\n",
       "      <td>15.6</td>\n",
       "      <td>62.0</td>\n",
       "      <td>11.0</td>\n",
       "      <td>0.7</td>\n",
       "      <td>0.473333</td>\n",
       "    </tr>\n",
       "  </tbody>\n",
       "</table>\n",
       "</div>"
      ],
      "text/plain": [
       "  PULocationID transaction_date  transaction_month  transaction_day  transaction_hour  trip_distance  total_amount  count_of_transactions  transaction_week_day  weekend  is_holiday Borough  temperature  humidity  wind speed  cloud cover  amount of precipitation\n",
       "0            1       2019-01-01                  1                1                 2            0.0        21.800                      1                     1    False        True     EWR          NaN       NaN         NaN          NaN                      NaN\n",
       "1            1       2019-01-01                  1                1                 5            0.0        87.300                      1                     1    False        True     EWR          NaN       NaN         NaN          NaN                      NaN\n",
       "2            1       2019-01-01                  1                1                 6            0.0        80.300                      1                     1    False        True     EWR          NaN       NaN         NaN          NaN                      NaN\n",
       "3            1       2019-01-01                  1                1                 8            0.0       128.580                      2                     1    False        True     EWR          NaN       NaN         NaN          NaN                      NaN\n",
       "4            1       2019-01-01                  1                1                10           16.9        43.245                      4                     1    False        True     EWR         15.6      62.0        11.0          0.7                 0.473333"
      ]
     },
     "execution_count": 69,
     "metadata": {},
     "output_type": "execute_result"
    }
   ],
   "source": [
    "nyc_taxi_with_weather.head()"
   ]
  },
  {
   "cell_type": "code",
   "execution_count": 70,
   "metadata": {},
   "outputs": [
    {
     "data": {
      "text/plain": [
       "PULocationID                   0\n",
       "transaction_date               0\n",
       "transaction_month              0\n",
       "transaction_day                0\n",
       "transaction_hour               0\n",
       "trip_distance                  0\n",
       "total_amount                   0\n",
       "count_of_transactions          0\n",
       "transaction_week_day           0\n",
       "weekend                        0\n",
       "is_holiday                     0\n",
       "Borough                        0\n",
       "temperature                68371\n",
       "humidity                   68371\n",
       "wind speed                 68371\n",
       "cloud cover                68371\n",
       "amount of precipitation    68371\n",
       "dtype: int64"
      ]
     },
     "execution_count": 70,
     "metadata": {},
     "output_type": "execute_result"
    }
   ],
   "source": [
    "nyc_taxi_with_weather.isna().sum()"
   ]
  },
  {
   "cell_type": "code",
   "execution_count": 71,
   "metadata": {},
   "outputs": [],
   "source": [
    "nyc_taxi_with_weather = nyc_taxi_with_weather.sort_values(['transaction_date', 'transaction_hour']).reset_index().drop('index',axis=1)"
   ]
  },
  {
   "cell_type": "code",
   "execution_count": 72,
   "metadata": {},
   "outputs": [
    {
     "data": {
      "text/plain": [
       "PULocationID               0\n",
       "transaction_date           0\n",
       "transaction_month          0\n",
       "transaction_day            0\n",
       "transaction_hour           0\n",
       "trip_distance              0\n",
       "total_amount               0\n",
       "count_of_transactions      0\n",
       "transaction_week_day       0\n",
       "weekend                    0\n",
       "is_holiday                 0\n",
       "Borough                    0\n",
       "temperature                0\n",
       "humidity                   0\n",
       "wind speed                 0\n",
       "cloud cover                0\n",
       "amount of precipitation    0\n",
       "dtype: int64"
      ]
     },
     "execution_count": 72,
     "metadata": {},
     "output_type": "execute_result"
    }
   ],
   "source": [
    "nyc_taxi_with_weather = nyc_taxi_with_weather.interpolate()\n",
    "nyc_taxi_with_weather = nyc_taxi_with_weather.fillna(method='bfill')\n",
    "nyc_taxi_with_weather.isna().sum()"
   ]
  },
  {
   "cell_type": "code",
   "execution_count": 73,
   "metadata": {},
   "outputs": [
    {
     "data": {
      "text/html": [
       "<div>\n",
       "<style scoped>\n",
       "    .dataframe tbody tr th:only-of-type {\n",
       "        vertical-align: middle;\n",
       "    }\n",
       "\n",
       "    .dataframe tbody tr th {\n",
       "        vertical-align: top;\n",
       "    }\n",
       "\n",
       "    .dataframe thead th {\n",
       "        text-align: right;\n",
       "    }\n",
       "</style>\n",
       "<table border=\"1\" class=\"dataframe\">\n",
       "  <thead>\n",
       "    <tr style=\"text-align: right;\">\n",
       "      <th></th>\n",
       "      <th>PULocationID</th>\n",
       "      <th>transaction_date</th>\n",
       "      <th>transaction_month</th>\n",
       "      <th>transaction_day</th>\n",
       "      <th>transaction_hour</th>\n",
       "      <th>trip_distance</th>\n",
       "      <th>total_amount</th>\n",
       "      <th>count_of_transactions</th>\n",
       "      <th>transaction_week_day</th>\n",
       "      <th>weekend</th>\n",
       "      <th>is_holiday</th>\n",
       "      <th>Borough</th>\n",
       "      <th>temperature</th>\n",
       "      <th>humidity</th>\n",
       "      <th>wind speed</th>\n",
       "      <th>cloud cover</th>\n",
       "      <th>amount of precipitation</th>\n",
       "    </tr>\n",
       "  </thead>\n",
       "  <tbody>\n",
       "    <tr>\n",
       "      <th>0</th>\n",
       "      <td>10</td>\n",
       "      <td>2019-01-01</td>\n",
       "      <td>1</td>\n",
       "      <td>1</td>\n",
       "      <td>0</td>\n",
       "      <td>3.020000</td>\n",
       "      <td>14.300000</td>\n",
       "      <td>2</td>\n",
       "      <td>1</td>\n",
       "      <td>False</td>\n",
       "      <td>True</td>\n",
       "      <td>Queens</td>\n",
       "      <td>8.3</td>\n",
       "      <td>97.0</td>\n",
       "      <td>0.0</td>\n",
       "      <td>1.0</td>\n",
       "      <td>29.0</td>\n",
       "    </tr>\n",
       "    <tr>\n",
       "      <th>1</th>\n",
       "      <td>100</td>\n",
       "      <td>2019-01-01</td>\n",
       "      <td>1</td>\n",
       "      <td>1</td>\n",
       "      <td>0</td>\n",
       "      <td>2.801852</td>\n",
       "      <td>18.130000</td>\n",
       "      <td>54</td>\n",
       "      <td>1</td>\n",
       "      <td>False</td>\n",
       "      <td>True</td>\n",
       "      <td>Manhattan</td>\n",
       "      <td>8.3</td>\n",
       "      <td>97.0</td>\n",
       "      <td>0.0</td>\n",
       "      <td>1.0</td>\n",
       "      <td>29.0</td>\n",
       "    </tr>\n",
       "    <tr>\n",
       "      <th>2</th>\n",
       "      <td>106</td>\n",
       "      <td>2019-01-01</td>\n",
       "      <td>1</td>\n",
       "      <td>1</td>\n",
       "      <td>0</td>\n",
       "      <td>2.593333</td>\n",
       "      <td>15.373333</td>\n",
       "      <td>3</td>\n",
       "      <td>1</td>\n",
       "      <td>False</td>\n",
       "      <td>True</td>\n",
       "      <td>Brooklyn</td>\n",
       "      <td>8.3</td>\n",
       "      <td>97.0</td>\n",
       "      <td>0.0</td>\n",
       "      <td>1.0</td>\n",
       "      <td>29.0</td>\n",
       "    </tr>\n",
       "    <tr>\n",
       "      <th>3</th>\n",
       "      <td>107</td>\n",
       "      <td>2019-01-01</td>\n",
       "      <td>1</td>\n",
       "      <td>1</td>\n",
       "      <td>0</td>\n",
       "      <td>2.437458</td>\n",
       "      <td>14.897458</td>\n",
       "      <td>421</td>\n",
       "      <td>1</td>\n",
       "      <td>False</td>\n",
       "      <td>True</td>\n",
       "      <td>Manhattan</td>\n",
       "      <td>8.3</td>\n",
       "      <td>97.0</td>\n",
       "      <td>0.0</td>\n",
       "      <td>1.0</td>\n",
       "      <td>29.0</td>\n",
       "    </tr>\n",
       "    <tr>\n",
       "      <th>4</th>\n",
       "      <td>11</td>\n",
       "      <td>2019-01-01</td>\n",
       "      <td>1</td>\n",
       "      <td>1</td>\n",
       "      <td>0</td>\n",
       "      <td>1.795000</td>\n",
       "      <td>9.300000</td>\n",
       "      <td>2</td>\n",
       "      <td>1</td>\n",
       "      <td>False</td>\n",
       "      <td>True</td>\n",
       "      <td>Brooklyn</td>\n",
       "      <td>8.3</td>\n",
       "      <td>97.0</td>\n",
       "      <td>0.0</td>\n",
       "      <td>1.0</td>\n",
       "      <td>29.0</td>\n",
       "    </tr>\n",
       "  </tbody>\n",
       "</table>\n",
       "</div>"
      ],
      "text/plain": [
       "  PULocationID transaction_date  transaction_month  transaction_day  transaction_hour  trip_distance  total_amount  count_of_transactions  transaction_week_day  weekend  is_holiday    Borough  temperature  humidity  wind speed  cloud cover  amount of precipitation\n",
       "0           10       2019-01-01                  1                1                 0       3.020000     14.300000                      2                     1    False        True     Queens          8.3      97.0         0.0          1.0                     29.0\n",
       "1          100       2019-01-01                  1                1                 0       2.801852     18.130000                     54                     1    False        True  Manhattan          8.3      97.0         0.0          1.0                     29.0\n",
       "2          106       2019-01-01                  1                1                 0       2.593333     15.373333                      3                     1    False        True   Brooklyn          8.3      97.0         0.0          1.0                     29.0\n",
       "3          107       2019-01-01                  1                1                 0       2.437458     14.897458                    421                     1    False        True  Manhattan          8.3      97.0         0.0          1.0                     29.0\n",
       "4           11       2019-01-01                  1                1                 0       1.795000      9.300000                      2                     1    False        True   Brooklyn          8.3      97.0         0.0          1.0                     29.0"
      ]
     },
     "execution_count": 73,
     "metadata": {},
     "output_type": "execute_result"
    }
   ],
   "source": [
    "nyc_taxi_with_weather.head()"
   ]
  },
  {
   "cell_type": "markdown",
   "metadata": {},
   "source": [
    "# 7. Model training <a id='model_training'></a>\n",
    "[Back to top](#table_of_contents)"
   ]
  },
  {
   "cell_type": "code",
   "execution_count": 74,
   "metadata": {},
   "outputs": [],
   "source": [
    "data_for_model = nyc_taxi_with_weather.copy()"
   ]
  },
  {
   "cell_type": "code",
   "execution_count": 75,
   "metadata": {},
   "outputs": [],
   "source": [
    "categorical_features = ['PULocationID', 'transaction_month', 'transaction_day',\n",
    "       'transaction_hour', 'transaction_week_day', 'weekend', 'is_holiday', 'Borough']\n",
    "input_features = categorical_features + ['temperature', 'humidity', 'wind speed', 'cloud cover',\n",
    "       'amount of precipitation']\n",
    "target_feature = 'total_amount'"
   ]
  },
  {
   "cell_type": "markdown",
   "metadata": {},
   "source": [
    "#### traint-test split"
   ]
  },
  {
   "cell_type": "code",
   "execution_count": 76,
   "metadata": {},
   "outputs": [],
   "source": [
    "from sklearn.model_selection import train_test_split\n",
    "\n",
    "X = data_for_model[input_features]\n",
    "y = data_for_model[target_feature]\n",
    "\n",
    "# one-hot encode\n",
    "X = pd.get_dummies(X)\n",
    "\n",
    "X_train, X_test, y_train, y_test = train_test_split(X, y, test_size=0.33, random_state=42)"
   ]
  },
  {
   "cell_type": "markdown",
   "metadata": {},
   "source": [
    "## 7.1. Decision tree <a id='decision_tree'></a>"
   ]
  },
  {
   "cell_type": "code",
   "execution_count": 77,
   "metadata": {},
   "outputs": [
    {
     "data": {
      "text/plain": [
       "DecisionTreeRegressor(max_depth=10)"
      ]
     },
     "execution_count": 77,
     "metadata": {},
     "output_type": "execute_result"
    }
   ],
   "source": [
    "from sklearn.tree import DecisionTreeRegressor \n",
    "\n",
    "decision_tree = DecisionTreeRegressor(max_depth=10)\n",
    "decision_tree.fit(X_train, y_train)"
   ]
  },
  {
   "cell_type": "code",
   "execution_count": 78,
   "metadata": {},
   "outputs": [
    {
     "name": "stdout",
     "output_type": "stream",
     "text": [
      "mean_absolute_error 8.538342190097213\n",
      "mean_squared_error 196.71207332989553\n",
      "root_mean_squared_error 14.025408134164778\n",
      "r2 0.30657763713479924\n"
     ]
    }
   ],
   "source": [
    "model_at_hand = decision_tree\n",
    "\n",
    "y_pred = model_at_hand.predict(X_test)\n",
    "\n",
    "from sklearn.metrics import mean_absolute_error\n",
    "from sklearn.metrics import mean_squared_error\n",
    "from sklearn.metrics import r2_score\n",
    "from math import sqrt\n",
    "\n",
    "print('mean_absolute_error', mean_absolute_error(y_test, y_pred))\n",
    "print('mean_squared_error', mean_squared_error(y_test, y_pred))\n",
    "print('root_mean_squared_error', sqrt(mean_squared_error(y_test, y_pred)))\n",
    "print('r2', r2_score(y_test, y_pred))"
   ]
  },
  {
   "cell_type": "code",
   "execution_count": 79,
   "metadata": {},
   "outputs": [
    {
     "data": {
      "text/plain": [
       "<AxesSubplot:xlabel='true', ylabel='pred'>"
      ]
     },
     "execution_count": 79,
     "metadata": {},
     "output_type": "execute_result"
    },
    {
     "data": {
      "image/png": "[encoded data removed]",
      "text/plain": [
       "<Figure size 1440x720 with 1 Axes>"
      ]
     },
     "metadata": {
      "needs_background": "light"
     },
     "output_type": "display_data"
    }
   ],
   "source": [
    "data = {'true': y_test, 'pred': y_pred}\n",
    "results = pd.DataFrame(data)\n",
    "\n",
    "results.plot(figsize=(20,10), kind='scatter', x='true', y='pred')"
   ]
  },
  {
   "cell_type": "markdown",
   "metadata": {},
   "source": [
    "### Overfit\n",
    "The model fits the training data's pattern so much that it loses the ability to generalise."
   ]
  },
  {
   "cell_type": "code",
   "execution_count": 80,
   "metadata": {},
   "outputs": [],
   "source": [
    "X_train_overfit = X_train\n",
    "y_train_overfit = y_train\n",
    "\n",
    "X_test_overfit = X_test\n",
    "y_test_overfit = y_test"
   ]
  },
  {
   "cell_type": "code",
   "execution_count": 81,
   "metadata": {},
   "outputs": [
    {
     "name": "stdout",
     "output_type": "stream",
     "text": [
      "2\n",
      "5\n",
      "8\n",
      "10\n",
      "15\n",
      "20\n",
      "30\n",
      "50\n",
      "70\n",
      "100\n",
      "150\n"
     ]
    }
   ],
   "source": [
    "rmse_scores = {'max_depth':[] ,'rmse_train':[], 'rmse_test':[]}\n",
    "\n",
    "for md in [2, 5, 8, 10, 15, 20, 30, 50, 70, 100, 150]:\n",
    "    print(md)\n",
    "    decision_tree_overfit = DecisionTreeRegressor(max_depth=md)\n",
    "    decision_tree_overfit.fit(X_train_overfit, y_train_overfit)\n",
    "    \n",
    "    model_at_hand_overfit = decision_tree_overfit\n",
    "    \n",
    "    y_pred_train = model_at_hand_overfit.predict(X_train_overfit)\n",
    "    rmse_train = sqrt(mean_squared_error(y_train_overfit, y_pred_train))\n",
    "    \n",
    "    y_pred_test = model_at_hand_overfit.predict(X_test_overfit)\n",
    "    rmse_test = sqrt(mean_squared_error(y_test_overfit, y_pred_test))\n",
    "    \n",
    "    rmse_scores['max_depth'].append(md)\n",
    "    rmse_scores['rmse_train'].append(rmse_train)\n",
    "    rmse_scores['rmse_test'].append(rmse_test)"
   ]
  },
  {
   "cell_type": "code",
   "execution_count": 82,
   "metadata": {},
   "outputs": [
    {
     "data": {
      "text/html": [
       "<div>\n",
       "<style scoped>\n",
       "    .dataframe tbody tr th:only-of-type {\n",
       "        vertical-align: middle;\n",
       "    }\n",
       "\n",
       "    .dataframe tbody tr th {\n",
       "        vertical-align: top;\n",
       "    }\n",
       "\n",
       "    .dataframe thead th {\n",
       "        text-align: right;\n",
       "    }\n",
       "</style>\n",
       "<table border=\"1\" class=\"dataframe\">\n",
       "  <thead>\n",
       "    <tr style=\"text-align: right;\">\n",
       "      <th></th>\n",
       "      <th>max_depth</th>\n",
       "      <th>rmse_train</th>\n",
       "      <th>rmse_test</th>\n",
       "    </tr>\n",
       "  </thead>\n",
       "  <tbody>\n",
       "    <tr>\n",
       "      <th>0</th>\n",
       "      <td>2</td>\n",
       "      <td>1.495163e+01</td>\n",
       "      <td>15.174393</td>\n",
       "    </tr>\n",
       "    <tr>\n",
       "      <th>1</th>\n",
       "      <td>5</td>\n",
       "      <td>1.412253e+01</td>\n",
       "      <td>14.497210</td>\n",
       "    </tr>\n",
       "    <tr>\n",
       "      <th>2</th>\n",
       "      <td>8</td>\n",
       "      <td>1.352369e+01</td>\n",
       "      <td>14.142573</td>\n",
       "    </tr>\n",
       "    <tr>\n",
       "      <th>3</th>\n",
       "      <td>10</td>\n",
       "      <td>1.313962e+01</td>\n",
       "      <td>14.008518</td>\n",
       "    </tr>\n",
       "    <tr>\n",
       "      <th>4</th>\n",
       "      <td>15</td>\n",
       "      <td>1.204887e+01</td>\n",
       "      <td>14.311741</td>\n",
       "    </tr>\n",
       "    <tr>\n",
       "      <th>5</th>\n",
       "      <td>20</td>\n",
       "      <td>1.109997e+01</td>\n",
       "      <td>14.455885</td>\n",
       "    </tr>\n",
       "    <tr>\n",
       "      <th>6</th>\n",
       "      <td>30</td>\n",
       "      <td>9.498536e+00</td>\n",
       "      <td>15.116920</td>\n",
       "    </tr>\n",
       "    <tr>\n",
       "      <th>7</th>\n",
       "      <td>50</td>\n",
       "      <td>5.425101e+00</td>\n",
       "      <td>16.675481</td>\n",
       "    </tr>\n",
       "    <tr>\n",
       "      <th>8</th>\n",
       "      <td>70</td>\n",
       "      <td>1.124518e+00</td>\n",
       "      <td>17.356841</td>\n",
       "    </tr>\n",
       "    <tr>\n",
       "      <th>9</th>\n",
       "      <td>100</td>\n",
       "      <td>6.976970e-17</td>\n",
       "      <td>17.378372</td>\n",
       "    </tr>\n",
       "    <tr>\n",
       "      <th>10</th>\n",
       "      <td>150</td>\n",
       "      <td>6.881703e-17</td>\n",
       "      <td>17.354871</td>\n",
       "    </tr>\n",
       "  </tbody>\n",
       "</table>\n",
       "</div>"
      ],
      "text/plain": [
       "    max_depth    rmse_train  rmse_test\n",
       "0           2  1.495163e+01  15.174393\n",
       "1           5  1.412253e+01  14.497210\n",
       "2           8  1.352369e+01  14.142573\n",
       "3          10  1.313962e+01  14.008518\n",
       "4          15  1.204887e+01  14.311741\n",
       "5          20  1.109997e+01  14.455885\n",
       "6          30  9.498536e+00  15.116920\n",
       "7          50  5.425101e+00  16.675481\n",
       "8          70  1.124518e+00  17.356841\n",
       "9         100  6.976970e-17  17.378372\n",
       "10        150  6.881703e-17  17.354871"
      ]
     },
     "execution_count": 82,
     "metadata": {},
     "output_type": "execute_result"
    }
   ],
   "source": [
    "pd.DataFrame.from_dict(rmse_scores)\n"
   ]
  },
  {
   "cell_type": "code",
   "execution_count": 83,
   "metadata": {},
   "outputs": [
    {
     "data": {
      "text/plain": [
       "Text(0, 0.5, 'root mean squared error')"
      ]
     },
     "execution_count": 83,
     "metadata": {},
     "output_type": "execute_result"
    },
    {
     "data": {
      "image/png": "[encoded data removed]",
      "text/plain": [
       "<Figure size 720x360 with 1 Axes>"
      ]
     },
     "metadata": {
      "needs_background": "light"
     },
     "output_type": "display_data"
    }
   ],
   "source": [
    "ax = pd.DataFrame.from_dict(rmse_scores).plot(figsize=(10,5),title=\"rmse of training vs. testing datasets\", fontsize=15, x='max_depth')\n",
    "ax.set_xlabel(\"max depth\", fontsize=15)\n",
    "ax.set_ylabel(\"root mean squared error\", fontsize=15)"
   ]
  },
  {
   "cell_type": "markdown",
   "metadata": {},
   "source": [
    "### Underfit\n",
    "Underfit is when the model cannot capture the data's pattern at all"
   ]
  },
  {
   "cell_type": "code",
   "execution_count": 84,
   "metadata": {},
   "outputs": [],
   "source": [
    "X_train_underfit = X_train\n",
    "y_train_underfit = y_train\n",
    "\n",
    "X_test_underfit = X_test\n",
    "y_test_underfit = y_test"
   ]
  },
  {
   "cell_type": "code",
   "execution_count": 85,
   "metadata": {},
   "outputs": [
    {
     "name": "stdout",
     "output_type": "stream",
     "text": [
      "mean_absolute_error 9.947300430991643\n",
      "mean_squared_error 239.08086416457164\n",
      "root_mean_squared_error 15.462239946546283\n",
      "r2 0.12373835366276398\n"
     ]
    }
   ],
   "source": [
    "decision_tree_underfit = DecisionTreeRegressor(max_depth=1)\n",
    "decision_tree_underfit.fit(X_train_underfit, y_train_underfit)\n",
    "\n",
    "# Training performance\n",
    "\n",
    "model_at_hand_underfit = decision_tree_underfit\n",
    "\n",
    "y_pred_underfit = model_at_hand_underfit.predict(X_train_underfit)\n",
    "\n",
    "from sklearn.metrics import mean_absolute_error\n",
    "from sklearn.metrics import mean_squared_error\n",
    "from sklearn.metrics import r2_score\n",
    "from math import sqrt\n",
    "\n",
    "print('mean_absolute_error', mean_absolute_error(y_train_underfit, y_pred_underfit))\n",
    "print('mean_squared_error', mean_squared_error(y_train_underfit, y_pred_underfit))\n",
    "print('root_mean_squared_error', sqrt(mean_squared_error(y_train_underfit, y_pred_underfit)))\n",
    "print('r2', r2_score(y_train_underfit, y_pred_underfit))"
   ]
  },
  {
   "cell_type": "code",
   "execution_count": 86,
   "metadata": {},
   "outputs": [
    {
     "name": "stdout",
     "output_type": "stream",
     "text": [
      "mean_absolute_error 10.082374129980227\n",
      "mean_squared_error 249.23442786807357\n",
      "root_mean_squared_error 15.787160221777492\n",
      "r2 0.12143305210453104\n"
     ]
    }
   ],
   "source": [
    "# Testing performance\n",
    "\n",
    "y_pred_underfit = model_at_hand_underfit.predict(X_test_underfit)\n",
    "\n",
    "from sklearn.metrics import mean_absolute_error\n",
    "from sklearn.metrics import mean_squared_error\n",
    "from sklearn.metrics import r2_score\n",
    "from math import sqrt\n",
    "\n",
    "print('mean_absolute_error', mean_absolute_error(y_test_underfit, y_pred_underfit))\n",
    "print('mean_squared_error', mean_squared_error(y_test_underfit, y_pred_underfit))\n",
    "print('root_mean_squared_error', sqrt(mean_squared_error(y_test_underfit, y_pred_underfit)))\n",
    "print('r2', r2_score(y_test_underfit, y_pred_underfit))"
   ]
  },
  {
   "cell_type": "markdown",
   "metadata": {},
   "source": [
    "## 7.2. Random forest <a id='random_forest'></a>"
   ]
  },
  {
   "cell_type": "code",
   "execution_count": 87,
   "metadata": {},
   "outputs": [
    {
     "data": {
      "text/plain": [
       "RandomForestRegressor()"
      ]
     },
     "execution_count": 87,
     "metadata": {},
     "output_type": "execute_result"
    }
   ],
   "source": [
    "from sklearn.ensemble import RandomForestRegressor\n",
    "\n",
    "rando_model = RandomForestRegressor()\n",
    "rando_model.fit(X_train, y_train)"
   ]
  },
  {
   "cell_type": "code",
   "execution_count": 88,
   "metadata": {},
   "outputs": [
    {
     "name": "stdout",
     "output_type": "stream",
     "text": [
      "mean_absolute_error 7.438346639376102\n",
      "mean_squared_error 175.22818237117747\n",
      "root_mean_squared_error 13.23737822875729\n",
      "r2 0.38230969658571523\n"
     ]
    }
   ],
   "source": [
    "model_at_hand = rando_model\n",
    "\n",
    "y_pred = model_at_hand.predict(X_test)\n",
    "\n",
    "from sklearn.metrics import mean_absolute_error\n",
    "from sklearn.metrics import mean_squared_error\n",
    "from sklearn.metrics import r2_score\n",
    "from math import sqrt\n",
    "\n",
    "print('mean_absolute_error', mean_absolute_error(y_test, y_pred))\n",
    "print('mean_squared_error', mean_squared_error(y_test, y_pred))\n",
    "print('root_mean_squared_error', sqrt(mean_squared_error(y_test, y_pred)))\n",
    "print('r2', r2_score(y_test, y_pred))"
   ]
  },
  {
   "cell_type": "code",
   "execution_count": 89,
   "metadata": {},
   "outputs": [
    {
     "data": {
      "text/plain": [
       "<AxesSubplot:xlabel='true', ylabel='pred'>"
      ]
     },
     "execution_count": 89,
     "metadata": {},
     "output_type": "execute_result"
    },
    {
     "data": {
      "image/png": "[encoded data removed]",
      "text/plain": [
       "<Figure size 1440x720 with 1 Axes>"
      ]
     },
     "metadata": {
      "needs_background": "light"
     },
     "output_type": "display_data"
    }
   ],
   "source": [
    "data = {'true': y_test, 'pred': y_pred}\n",
    "results = pd.DataFrame(data)\n",
    "\n",
    "results.plot(figsize=(20,10), kind='scatter', x='true', y='pred')"
   ]
  },
  {
   "cell_type": "markdown",
   "metadata": {},
   "source": [
    "## 7.3. Gradient boosting"
   ]
  },
  {
   "cell_type": "code",
   "execution_count": 90,
   "metadata": {},
   "outputs": [
    {
     "data": {
      "text/plain": [
       "GradientBoostingRegressor()"
      ]
     },
     "execution_count": 90,
     "metadata": {},
     "output_type": "execute_result"
    }
   ],
   "source": [
    "from sklearn.ensemble import GradientBoostingRegressor\n",
    "\n",
    "gradBooster = GradientBoostingRegressor()\n",
    "gradBooster.fit(X_train, y_train)"
   ]
  },
  {
   "cell_type": "code",
   "execution_count": 91,
   "metadata": {},
   "outputs": [
    {
     "name": "stdout",
     "output_type": "stream",
     "text": [
      "mean_absolute_error 8.388075340735144\n",
      "mean_squared_error 178.98061310002197\n",
      "root_mean_squared_error 13.378363618171766\n",
      "r2 0.369082143551288\n"
     ]
    }
   ],
   "source": [
    "model_at_hand = gradBooster\n",
    "\n",
    "y_pred = model_at_hand.predict(X_test)\n",
    "\n",
    "from sklearn.metrics import mean_absolute_error\n",
    "from sklearn.metrics import mean_squared_error\n",
    "from sklearn.metrics import r2_score\n",
    "from math import sqrt\n",
    "\n",
    "print('mean_absolute_error', mean_absolute_error(y_test, y_pred))\n",
    "print('mean_squared_error', mean_squared_error(y_test, y_pred))\n",
    "print('root_mean_squared_error', sqrt(mean_squared_error(y_test, y_pred)))\n",
    "print('r2', r2_score(y_test, y_pred))"
   ]
  },
  {
   "cell_type": "code",
   "execution_count": 92,
   "metadata": {},
   "outputs": [
    {
     "data": {
      "text/plain": [
       "<AxesSubplot:xlabel='true', ylabel='pred'>"
      ]
     },
     "execution_count": 92,
     "metadata": {},
     "output_type": "execute_result"
    },
    {
     "data": {
      "image/png": "[encoded data removed]",
      "text/plain": [
       "<Figure size 1440x720 with 1 Axes>"
      ]
     },
     "metadata": {
      "needs_background": "light"
     },
     "output_type": "display_data"
    }
   ],
   "source": [
    "data = {'true': y_test, 'pred': y_pred}\n",
    "results = pd.DataFrame(data)\n",
    "\n",
    "results.plot(figsize=(20,10), kind='scatter', x='true', y='pred')"
   ]
  },
  {
   "cell_type": "code",
   "execution_count": 93,
   "metadata": {},
   "outputs": [
    {
     "data": {
      "text/plain": [
       "<AxesSubplot:>"
      ]
     },
     "execution_count": 93,
     "metadata": {},
     "output_type": "execute_result"
    },
    {
     "data": {
      "image/png": "[encoded data removed]",
      "text/plain": [
       "<Figure size 432x288 with 1 Axes>"
      ]
     },
     "metadata": {
      "needs_background": "light"
     },
     "output_type": "display_data"
    }
   ],
   "source": [
    "(pd.Series(model_at_hand.feature_importances_, index=X_train.columns)\n",
    "   .nlargest(10)\n",
    "   .plot(kind='barh'))"
   ]
  },
  {
   "cell_type": "markdown",
   "metadata": {},
   "source": [
    "## 7.4. Comparing algorithm performances <a id='comparing_algorithm_performances'></a>"
   ]
  },
  {
   "cell_type": "markdown",
   "metadata": {},
   "source": [
    "| Algorithm         | MAE   | RMSE   | R2    |\n",
    "|-------------------|-------|--------|-------|\n",
    "| Benchmark model   | 9.778 | 14.739 | 0.225 |\n",
    "| Decision tree     | 8.534 | 14.011 | 0.308 |\n",
    "| Random forest     | 7.426 | 13.212 | 0.385 |\n",
    "| Gradient boosting | 8.388 | 13.378 | 0.369 |"
   ]
  },
  {
   "cell_type": "markdown",
   "metadata": {},
   "source": [
    "# 8. Tuning <a id='tuning'></a>\n",
    "[Back to top](#table_of_contents)"
   ]
  },
  {
   "cell_type": "markdown",
   "metadata": {},
   "source": [
    "## 8.1. Find best parameters"
   ]
  },
  {
   "cell_type": "code",
   "execution_count": 94,
   "metadata": {},
   "outputs": [],
   "source": [
    "# Number of trees in random forest\n",
    "n_estimators = [int(x) for x in np.linspace(start = 200, stop = 2000, num = 10)]\n",
    "# Number of features to consider at every split\n",
    "max_features = ['auto', 'sqrt']\n",
    "# Maximum number of levels in tree\n",
    "max_depth = [10,20,50,100,150,200,300,500]\n",
    "max_depth.append(None)\n",
    "# Minimum number of samples required to split a node\n",
    "min_samples_split = [2, 5, 10, 20, 40]\n",
    "# Minimum number of samples required at each leaf node\n",
    "min_samples_leaf = [1, 2, 4, 10, 20]\n",
    "# Method of selecting samples for training each tree\n",
    "bootstrap = [True, False]"
   ]
  },
  {
   "cell_type": "code",
   "execution_count": 95,
   "metadata": {},
   "outputs": [
    {
     "name": "stdout",
     "output_type": "stream",
     "text": [
      "{'bootstrap': [True, False],\n",
      " 'max_depth': [10, 20, 50, 100, 150, 200, 300, 500, None],\n",
      " 'max_features': ['auto', 'sqrt'],\n",
      " 'min_samples_leaf': [1, 2, 4, 10, 20],\n",
      " 'min_samples_split': [2, 5, 10, 20, 40],\n",
      " 'n_estimators': [200, 400, 600, 800, 1000, 1200, 1400, 1600, 1800, 2000]}\n"
     ]
    }
   ],
   "source": [
    "import pprint as pp\n",
    "\n",
    "# Create the random grid\n",
    "random_grid = {'n_estimators': n_estimators,\n",
    "               'max_features': max_features,\n",
    "               'max_depth': max_depth,\n",
    "               'min_samples_split': min_samples_split,\n",
    "               'min_samples_leaf': min_samples_leaf,\n",
    "               'bootstrap': bootstrap}\n",
    "pp.pprint(random_grid)"
   ]
  },
  {
   "cell_type": "code",
   "execution_count": null,
   "metadata": {},
   "outputs": [
    {
     "name": "stdout",
     "output_type": "stream",
     "text": [
      "Fitting 3 folds for each of 10 candidates, totalling 30 fits\n"
     ]
    },
    {
     "name": "stderr",
     "output_type": "stream",
     "text": [
      "[Parallel(n_jobs=-1)]: Using backend LokyBackend with 8 concurrent workers.\n"
     ]
    }
   ],
   "source": [
    "from sklearn.model_selection import RandomizedSearchCV\n",
    "\n",
    "rf = RandomForestRegressor()\n",
    "\n",
    "rf_random = RandomizedSearchCV(estimator = rf, param_distributions = random_grid, n_iter = 10, cv = 3, verbose=2, random_state=42, n_jobs = -1)\n",
    "\n",
    "# Fit the random search model\n",
    "rf_random.fit(X_train, y_train)\n",
    "\n",
    "performances = pd.DataFrame.from_dict(rf_random.cv_results_)"
   ]
  },
  {
   "cell_type": "code",
   "execution_count": null,
   "metadata": {},
   "outputs": [],
   "source": [
    "performances"
   ]
  },
  {
   "cell_type": "code",
   "execution_count": null,
   "metadata": {},
   "outputs": [],
   "source": [
    "import time\n",
    "t0= time.time()\n",
    "\n",
    "best = RandomForestRegressor(n_estimators=1800,min_samples_split= 2,\n",
    "min_samples_leaf= 4,\n",
    "max_features= 'sqrt',\n",
    "max_depth= 300,\n",
    "bootstrap= True)\n",
    "best.fit(X_train, y_train)\n",
    "\n",
    "t1 = time.time() - t0\n",
    "print(\"Time elapsed: \", t1, \" seconds\")\n",
    "\n",
    "\n",
    "model_at_hand = best\n",
    "\n",
    "y_pred = model_at_hand.predict(X_test)\n",
    "\n",
    "from sklearn.metrics import mean_absolute_error\n",
    "from sklearn.metrics import mean_squared_error\n",
    "from sklearn.metrics import r2_score\n",
    "from math import sqrt\n",
    "\n",
    "print('mean_absolute_error', mean_absolute_error(y_test, y_pred))\n",
    "print('mean_squared_error', mean_squared_error(y_test, y_pred))\n",
    "print('root_mean_squared_error', sqrt(mean_squared_error(y_test, y_pred)))\n",
    "print('r2', r2_score(y_test, y_pred))"
   ]
  },
  {
   "cell_type": "code",
   "execution_count": null,
   "metadata": {},
   "outputs": [],
   "source": [
    "from sklearn.ensemble import RandomForestRegressor\n",
    "\n",
    "import time\n",
    "t0= time.time()\n",
    "\n",
    "second_best = RandomForestRegressor(n_estimators=200,min_samples_split= 10,\n",
    "min_samples_leaf= 2,\n",
    "max_features= 'sqrt',\n",
    "max_depth= 150,\n",
    "bootstrap= True)\n",
    "second_best.fit(X_train, y_train)\n",
    "\n",
    "t1 = time.time() - t0\n",
    "print(\"Time elapsed: \", t1, \" seconds\")\n",
    "\n",
    "\n",
    "model_at_hand = second_best\n",
    "\n",
    "y_pred = model_at_hand.predict(X_test)\n",
    "\n",
    "from sklearn.metrics import mean_absolute_error\n",
    "from sklearn.metrics import mean_squared_error\n",
    "from sklearn.metrics import r2_score\n",
    "from math import sqrt\n",
    "\n",
    "print('mean_absolute_error', mean_absolute_error(y_test, y_pred))\n",
    "print('mean_squared_error', mean_squared_error(y_test, y_pred))\n",
    "print('root_mean_squared_error', sqrt(mean_squared_error(y_test, y_pred)))\n",
    "print('r2', r2_score(y_test, y_pred))"
   ]
  },
  {
   "cell_type": "code",
   "execution_count": null,
   "metadata": {},
   "outputs": [],
   "source": [
    "data = {'true': y_test, 'pred': y_pred}\n",
    "results = pd.DataFrame(data)\n",
    "\n",
    "results.plot(figsize=(20,10), kind='scatter', x='true', y='pred')"
   ]
  },
  {
   "cell_type": "markdown",
   "metadata": {},
   "source": [
    "## Bonus: Classification"
   ]
  },
  {
   "cell_type": "code",
   "execution_count": null,
   "metadata": {},
   "outputs": [],
   "source": [
    "nyc_taxi_with_weather['total_amount'].hist(bins=100, figsize=(10,5))"
   ]
  },
  {
   "cell_type": "code",
   "execution_count": null,
   "metadata": {},
   "outputs": [],
   "source": [
    "nyc_class = nyc_taxi_with_weather.copy()\n",
    "nyc_class['earning_class'] = nyc_taxi_with_weather['total_amount'].apply(lambda x: 'low' if x<=15 else 'high')\n",
    "nyc_class['earning_class_binary'] = nyc_class['earning_class'].apply(lambda x: 0 if x=='low' else 1)\n",
    "nyc_class.head()"
   ]
  },
  {
   "cell_type": "code",
   "execution_count": null,
   "metadata": {},
   "outputs": [],
   "source": [
    "nyc_class['earning_class'].value_counts()"
   ]
  },
  {
   "cell_type": "code",
   "execution_count": null,
   "metadata": {},
   "outputs": [],
   "source": [
    "categorical_features = ['PULocationID', 'transaction_month', 'transaction_day',\n",
    "       'transaction_hour', 'transaction_week_day', 'weekend', 'is_holiday', 'Borough']\n",
    "input_features = categorical_features + ['temperature', 'humidity', 'wind speed', 'cloud cover',\n",
    "       'amount of precipitation']\n",
    "target_feature = 'earning_class_binary'"
   ]
  },
  {
   "cell_type": "code",
   "execution_count": null,
   "metadata": {},
   "outputs": [],
   "source": [
    "from sklearn.model_selection import train_test_split\n",
    "\n",
    "X_c = nyc_class[input_features]\n",
    "y_c = nyc_class[target_feature]\n",
    "\n",
    "# one-hot encode\n",
    "X_c = pd.get_dummies(X_c)\n",
    "\n",
    "X_train_c, X_test_c, y_train_c, y_test_c = train_test_split(X_c, y_c, test_size=0.33, random_state=42)"
   ]
  },
  {
   "cell_type": "code",
   "execution_count": null,
   "metadata": {},
   "outputs": [],
   "source": [
    "from sklearn.ensemble import RandomForestClassifier\n",
    "\n",
    "clf = RandomForestClassifier()\n",
    "clf.fit(X_train_c, y_train_c)\n",
    "\n",
    "y_pred_c = clf.predict(X_test_c)"
   ]
  },
  {
   "cell_type": "code",
   "execution_count": null,
   "metadata": {},
   "outputs": [],
   "source": [
    "from sklearn.metrics import accuracy_score\n",
    "from sklearn.metrics import precision_score, recall_score\n",
    "from sklearn.metrics import confusion_matrix\n",
    "from math import sqrt\n",
    "\n",
    "print(confusion_matrix(y_test_c, y_pred_c))\n",
    "\n",
    "print('accuracy', accuracy_score(y_test_c, y_pred_c))\n",
    "print('precision', precision_score(y_test_c, y_pred_c))\n",
    "print('recall', recall_score(y_test_c, y_pred_c))"
   ]
  },
  {
   "cell_type": "code",
   "execution_count": null,
   "metadata": {},
   "outputs": [],
   "source": [
    "(pd.Series(clf.feature_importances_, index=X_train.columns)\n",
    "   .nlargest(10)\n",
    "   .plot(kind='barh'))"
   ]
  }
 ],
 "metadata": {
  "kernelspec": {
   "display_name": "Python 3",
   "language": "python",
   "name": "python3"
  },
  "language_info": {
   "codemirror_mode": {
    "name": "ipython",
    "version": 3
   },
   "file_extension": ".py",
   "mimetype": "text/x-python",
   "name": "python",
   "nbconvert_exporter": "python",
   "pygments_lexer": "ipython3",
   "version": "3.7.6"
  }
 },
 "nbformat": 4,
 "nbformat_minor": 4
}
