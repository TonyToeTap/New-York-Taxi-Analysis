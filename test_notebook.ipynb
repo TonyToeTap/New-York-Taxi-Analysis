{
 "cells": [
  {
   "cell_type": "code",
   "execution_count": 2,
   "id": "interpreted-commitment",
   "metadata": {},
   "outputs": [],
   "source": [
    "import pandas as pd\n",
    "import numpy as np\n",
    "pd.set_option('display.max_rows', 500)\n",
    "pd.set_option('display.max_columns', 500)\n",
    "pd.set_option('display.width', 1000)"
   ]
  },
  {
   "cell_type": "code",
   "execution_count": 3,
   "id": "capable-enterprise",
   "metadata": {},
   "outputs": [],
   "source": [
    "taxi_pd = pd.read_csv('/Users/lukasjunger/PycharmProjects/MisraCourse/New-York-Taxi-Analysis/data/yellow_tripdata_2019-01.csv')"
   ]
  },
  {
   "cell_type": "code",
   "execution_count": 5,
   "id": "impressed-cooler",
   "metadata": {},
   "outputs": [],
   "source": [
    "# To display more columns/rows\n",
    "\n",
    "pd.set_option('display.expand_frame_repr', False)"
   ]
  },
  {
   "cell_type": "code",
   "execution_count": 6,
   "id": "choice-bangkok",
   "metadata": {},
   "outputs": [
    {
     "data": {
      "text/plain": [
       "0           True\n",
       "1           True\n",
       "2           True\n",
       "3           True\n",
       "4           True\n",
       "           ...  \n",
       "7667787    False\n",
       "7667788    False\n",
       "7667789    False\n",
       "7667790    False\n",
       "7667791    False\n",
       "Name: congestion_surcharge, Length: 7667792, dtype: bool"
      ]
     },
     "execution_count": 6,
     "metadata": {},
     "output_type": "execute_result"
    }
   ],
   "source": [
    "# To check if all entries a missing values in this column\n",
    "taxi_pd['congestion_surcharge'].isnull()\n",
    "\n",
    "# turns out that there are several values which are not a missing value"
   ]
  },
  {
   "cell_type": "code",
   "execution_count": 7,
   "id": "naughty-breach",
   "metadata": {},
   "outputs": [
    {
     "data": {
      "text/plain": [
       "VendorID                       0\n",
       "tpep_pickup_datetime           0\n",
       "tpep_dropoff_datetime          0\n",
       "passenger_count                0\n",
       "trip_distance                  0\n",
       "RatecodeID                     0\n",
       "store_and_fwd_flag             0\n",
       "PULocationID                   0\n",
       "DOLocationID                   0\n",
       "payment_type                   0\n",
       "fare_amount                    0\n",
       "extra                          0\n",
       "mta_tax                        0\n",
       "tip_amount                     0\n",
       "tolls_amount                   0\n",
       "improvement_surcharge          0\n",
       "total_amount                   0\n",
       "congestion_surcharge     4855978\n",
       "dtype: int64"
      ]
     },
     "execution_count": 7,
     "metadata": {},
     "output_type": "execute_result"
    }
   ],
   "source": [
    "# To check for the amount of missing values in each column\n",
    "taxi_pd.isnull().sum()"
   ]
  },
  {
   "cell_type": "code",
   "execution_count": 9,
   "id": "combined-syndrome",
   "metadata": {},
   "outputs": [
    {
     "data": {
      "text/plain": [
       "NaN    4855978\n",
       "0.0    2811777\n",
       "2.5         37\n",
       "Name: congestion_surcharge, dtype: int64"
      ]
     },
     "execution_count": 9,
     "metadata": {},
     "output_type": "execute_result"
    }
   ],
   "source": [
    "# How many different values are in the column congestion_surcharge?\n",
    "taxi_pd['congestion_surcharge'].value_counts(dropna=False)"
   ]
  },
  {
   "cell_type": "markdown",
   "id": "grand-flesh",
   "metadata": {},
   "source": [
    "### Replacing the datetime-columns by *date* and *time* and also giving them the actual datetime data-type"
   ]
  },
  {
   "cell_type": "code",
   "execution_count": 17,
   "id": "governmental-looking",
   "metadata": {},
   "outputs": [
    {
     "data": {
      "text/plain": [
       "str"
      ]
     },
     "execution_count": 17,
     "metadata": {},
     "output_type": "execute_result"
    }
   ],
   "source": [
    "# Both columns with dates in them have actually the datatype str\n",
    "type(taxi_pd['tpep_pickup_datetime'].loc[3])\n",
    "type(taxi_pd['tpep_dropoff_datetime'].loc[3])"
   ]
  },
  {
   "cell_type": "code",
   "execution_count": 18,
   "id": "progressive-frank",
   "metadata": {},
   "outputs": [
    {
     "data": {
      "text/plain": [
       "'2018-11-28 15:55:45'"
      ]
     },
     "execution_count": 18,
     "metadata": {},
     "output_type": "execute_result"
    }
   ],
   "source": [
    "taxi_pd['tpep_dropoff_datetime'].loc[3]"
   ]
  },
  {
   "cell_type": "code",
   "execution_count": 21,
   "id": "danish-copper",
   "metadata": {},
   "outputs": [
    {
     "data": {
      "text/plain": [
       "0         2019-01-01 00:53:20\n",
       "1         2019-01-01 01:18:59\n",
       "2         2018-12-21 13:52:40\n",
       "3         2018-11-28 15:55:45\n",
       "4         2018-11-28 15:58:33\n",
       "                  ...        \n",
       "7667787   2019-02-01 00:18:39\n",
       "7667788   2019-01-31 23:33:11\n",
       "7667789   2019-01-31 23:36:40\n",
       "7667790   2019-01-31 23:15:20\n",
       "7667791   2019-01-31 23:14:08\n",
       "Name: tpep_dropoff_datetime, Length: 7667792, dtype: datetime64[ns]"
      ]
     },
     "execution_count": 21,
     "metadata": {},
     "output_type": "execute_result"
    }
   ],
   "source": [
    "# Converting the columns' datatype from string -> datetime\n",
    "pd.to_datetime(taxi_pd['tpep_pickup_datetime'])\n",
    "pd.to_datetime(taxi_pd['tpep_dropoff_datetime'])"
   ]
  },
  {
   "cell_type": "code",
   "execution_count": null,
   "id": "colonial-burst",
   "metadata": {},
   "outputs": [],
   "source": []
  }
 ],
 "metadata": {
  "kernelspec": {
   "display_name": "Python 3",
   "language": "python",
   "name": "python3"
  },
  "language_info": {
   "codemirror_mode": {
    "name": "ipython",
    "version": 3
   },
   "file_extension": ".py",
   "mimetype": "text/x-python",
   "name": "python",
   "nbconvert_exporter": "python",
   "pygments_lexer": "ipython3",
   "version": "3.7.6"
  }
 },
 "nbformat": 4,
 "nbformat_minor": 5
}
